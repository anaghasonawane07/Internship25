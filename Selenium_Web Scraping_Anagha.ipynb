{
 "cells": [
  {
   "cell_type": "raw",
   "metadata": {},
   "source": [
    "Q1: Write a python program to scrape data for “Data Analyst” Job position in “Bangalore” location. You\n",
    "have to scrape the job-title, job-location, company_name, experience_required. You have to scrape first 10\n",
    "jobs data.\n",
    "This task will be done in following steps:\n",
    "1. First get the webpage https://www.naukri.com/\n",
    "2. Enter “Data Analyst” in “Skill, Designations, Companies” field and enter “Bangalore” in “enter the\n",
    "location” field.\n",
    "3. Then click the search button.\n",
    "4. Then scrape the data for the first 10 jobs results you get.\n",
    "5. Finally create a dataframe of the scraped data."
   ]
  },
  {
   "cell_type": "code",
   "execution_count": 1,
   "metadata": {},
   "outputs": [],
   "source": [
    "# let's import all required libraries\n",
    "import selenium\n",
    "from selenium import webdriver\n",
    "import pandas as pd\n",
    "import warnings\n",
    "warnings.filterwarnings('ignore')"
   ]
  },
  {
   "cell_type": "code",
   "execution_count": 2,
   "metadata": {},
   "outputs": [],
   "source": [
    "#Lets's connect to web driver\n",
    "driver = webdriver.Chrome('chromedriver.exe')"
   ]
  },
  {
   "cell_type": "code",
   "execution_count": 3,
   "metadata": {},
   "outputs": [],
   "source": [
    "url = 'https://www.naukri.com/'\n",
    "driver.get(url)"
   ]
  },
  {
   "cell_type": "code",
   "execution_count": 4,
   "metadata": {},
   "outputs": [
    {
     "data": {
      "text/plain": [
       "<selenium.webdriver.remote.webelement.WebElement (session=\"1cac47c6f13f84ffe78e4d0a0d6392d0\", element=\"270386c0-1a6a-4cac-8df6-b599f5d8b8fa\")>"
      ]
     },
     "execution_count": 4,
     "metadata": {},
     "output_type": "execute_result"
    }
   ],
   "source": [
    "# finding web element for search job bar using id\n",
    "search_job = driver.find_element_by_class_name(\"suggestor-input\")\n",
    "search_job"
   ]
  },
  {
   "cell_type": "code",
   "execution_count": 5,
   "metadata": {},
   "outputs": [],
   "source": [
    "#write on search bar\n",
    "search_job.send_keys(\"Data Analyst\")"
   ]
  },
  {
   "cell_type": "code",
   "execution_count": 6,
   "metadata": {},
   "outputs": [
    {
     "data": {
      "text/plain": [
       "<selenium.webdriver.remote.webelement.WebElement (session=\"1cac47c6f13f84ffe78e4d0a0d6392d0\", element=\"659a9e3b-9167-4adf-9775-ac295de38cd9\")>"
      ]
     },
     "execution_count": 6,
     "metadata": {},
     "output_type": "execute_result"
    }
   ],
   "source": [
    "search_locn = driver.find_element_by_xpath(\"/html/body/div/div[2]/div[3]/div/div/div[3]/div/div/div/input\")\n",
    "search_locn"
   ]
  },
  {
   "cell_type": "code",
   "execution_count": 7,
   "metadata": {},
   "outputs": [
    {
     "data": {
      "text/plain": [
       "<selenium.webdriver.remote.webelement.WebElement (session=\"1cac47c6f13f84ffe78e4d0a0d6392d0\", element=\"659a9e3b-9167-4adf-9775-ac295de38cd9\")>"
      ]
     },
     "execution_count": 7,
     "metadata": {},
     "output_type": "execute_result"
    }
   ],
   "source": [
    "search_locn.send_keys(\"Banglore\")\n",
    "search_locn"
   ]
  },
  {
   "cell_type": "code",
   "execution_count": 8,
   "metadata": {},
   "outputs": [
    {
     "data": {
      "text/plain": [
       "<selenium.webdriver.remote.webelement.WebElement (session=\"1cac47c6f13f84ffe78e4d0a0d6392d0\", element=\"13c86781-68bc-4e30-b6fb-2fad126ceaf9\")>"
      ]
     },
     "execution_count": 8,
     "metadata": {},
     "output_type": "execute_result"
    }
   ],
   "source": [
    "search_btn = driver.find_element_by_xpath('/html/body/div/div[2]/div[3]/div/div/div[6]')\n",
    "search_btn"
   ]
  },
  {
   "cell_type": "code",
   "execution_count": 9,
   "metadata": {},
   "outputs": [],
   "source": [
    "search_btn.click()"
   ]
  },
  {
   "cell_type": "markdown",
   "metadata": {},
   "source": [
    "# Extracting Job Titles"
   ]
  },
  {
   "cell_type": "code",
   "execution_count": 10,
   "metadata": {},
   "outputs": [
    {
     "data": {
      "text/plain": [
       "[<selenium.webdriver.remote.webelement.WebElement (session=\"1cac47c6f13f84ffe78e4d0a0d6392d0\", element=\"6dfa425b-c290-4106-9dcc-96518088b583\")>,\n",
       " <selenium.webdriver.remote.webelement.WebElement (session=\"1cac47c6f13f84ffe78e4d0a0d6392d0\", element=\"2932f83f-ec59-49df-a283-a8611bf6e398\")>,\n",
       " <selenium.webdriver.remote.webelement.WebElement (session=\"1cac47c6f13f84ffe78e4d0a0d6392d0\", element=\"83bcf5a6-5718-4ad0-932c-6a0f61c9cb2b\")>,\n",
       " <selenium.webdriver.remote.webelement.WebElement (session=\"1cac47c6f13f84ffe78e4d0a0d6392d0\", element=\"aed83b90-c311-4945-9df9-73ff8e4001c2\")>,\n",
       " <selenium.webdriver.remote.webelement.WebElement (session=\"1cac47c6f13f84ffe78e4d0a0d6392d0\", element=\"0e41f2b4-77c7-4590-913c-6889bd9a69e2\")>,\n",
       " <selenium.webdriver.remote.webelement.WebElement (session=\"1cac47c6f13f84ffe78e4d0a0d6392d0\", element=\"c0ab0406-37fb-4ca1-893f-4cb950e36e29\")>,\n",
       " <selenium.webdriver.remote.webelement.WebElement (session=\"1cac47c6f13f84ffe78e4d0a0d6392d0\", element=\"a34a9a97-3108-4b08-ae7e-59a54484450b\")>,\n",
       " <selenium.webdriver.remote.webelement.WebElement (session=\"1cac47c6f13f84ffe78e4d0a0d6392d0\", element=\"a2a566bc-5634-4e5b-be8c-fa7505efb531\")>,\n",
       " <selenium.webdriver.remote.webelement.WebElement (session=\"1cac47c6f13f84ffe78e4d0a0d6392d0\", element=\"9be3605d-ef72-4bf9-b1ff-a6f61ea7a274\")>,\n",
       " <selenium.webdriver.remote.webelement.WebElement (session=\"1cac47c6f13f84ffe78e4d0a0d6392d0\", element=\"91dfb86a-e0fc-4076-a4de-a58df144683b\")>]"
      ]
     },
     "execution_count": 10,
     "metadata": {},
     "output_type": "execute_result"
    }
   ],
   "source": [
    "# lets extract all web elements having job titles\n",
    "title_tags = driver.find_elements_by_xpath('//a[@class=\"title fw500 ellipsis\"]')\n",
    "title_tags[0:10]"
   ]
  },
  {
   "cell_type": "code",
   "execution_count": 11,
   "metadata": {},
   "outputs": [
    {
     "data": {
      "text/plain": [
       "['Flight data analyst (372)',\n",
       " 'Senior Data Analyst',\n",
       " 'software developer & Testing / Business Analyst/Data Analyst/Python.',\n",
       " 'Staff Business Data Analyst - FDP',\n",
       " 'Data Analyst - IIM/ISB/MDI/FMS/SP Jain',\n",
       " 'Senior Data Analyst',\n",
       " 'Senior Data Analyst',\n",
       " 'Senior Data Analyst',\n",
       " 'Data Analyst',\n",
       " 'Looking For Data Analyst']"
      ]
     },
     "execution_count": 11,
     "metadata": {},
     "output_type": "execute_result"
    }
   ],
   "source": [
    "job_titles=[]\n",
    "\n",
    "for i in title_tags:\n",
    "    job_titles.append(i.text)\n",
    "job_titles[0:10]    "
   ]
  },
  {
   "cell_type": "markdown",
   "metadata": {},
   "source": [
    "# Extracting Job Location"
   ]
  },
  {
   "cell_type": "code",
   "execution_count": 12,
   "metadata": {},
   "outputs": [
    {
     "data": {
      "text/plain": [
       "[<selenium.webdriver.remote.webelement.WebElement (session=\"1cac47c6f13f84ffe78e4d0a0d6392d0\", element=\"485604e3-a625-4715-a73e-3a44ed0bf3d2\")>,\n",
       " <selenium.webdriver.remote.webelement.WebElement (session=\"1cac47c6f13f84ffe78e4d0a0d6392d0\", element=\"ae6d1819-3818-4c08-af4e-eaa0524f89ee\")>,\n",
       " <selenium.webdriver.remote.webelement.WebElement (session=\"1cac47c6f13f84ffe78e4d0a0d6392d0\", element=\"467d0735-9ff8-4d5c-8043-55d5b7da9811\")>,\n",
       " <selenium.webdriver.remote.webelement.WebElement (session=\"1cac47c6f13f84ffe78e4d0a0d6392d0\", element=\"9bacbe13-34a2-49b3-b5a9-b302d4db6970\")>,\n",
       " <selenium.webdriver.remote.webelement.WebElement (session=\"1cac47c6f13f84ffe78e4d0a0d6392d0\", element=\"afb87ced-ad71-41d7-aa62-8d60daf7a3e8\")>,\n",
       " <selenium.webdriver.remote.webelement.WebElement (session=\"1cac47c6f13f84ffe78e4d0a0d6392d0\", element=\"a9f5acbb-cf9a-413f-8a49-aa86323be8a9\")>,\n",
       " <selenium.webdriver.remote.webelement.WebElement (session=\"1cac47c6f13f84ffe78e4d0a0d6392d0\", element=\"21a3fe68-cd97-45e6-932c-eb3479ede58e\")>,\n",
       " <selenium.webdriver.remote.webelement.WebElement (session=\"1cac47c6f13f84ffe78e4d0a0d6392d0\", element=\"e3721445-3c47-49ce-9076-f84f668ee11f\")>,\n",
       " <selenium.webdriver.remote.webelement.WebElement (session=\"1cac47c6f13f84ffe78e4d0a0d6392d0\", element=\"d7d2b922-9406-4041-bedc-4b998256b0fe\")>,\n",
       " <selenium.webdriver.remote.webelement.WebElement (session=\"1cac47c6f13f84ffe78e4d0a0d6392d0\", element=\"9eb96c57-0d25-4154-93ba-c949ac2cb9d1\")>]"
      ]
     },
     "execution_count": 12,
     "metadata": {},
     "output_type": "execute_result"
    }
   ],
   "source": [
    "# lets extract all web elements having job location\n",
    "locn_tags = driver.find_elements_by_xpath('//li[@class=\"fleft grey-text br2 placeHolderLi location\"]')\n",
    "locn_tags[0:10]"
   ]
  },
  {
   "cell_type": "code",
   "execution_count": 13,
   "metadata": {},
   "outputs": [
    {
     "data": {
      "text/plain": [
       "['Bangalore/Bengaluru',\n",
       " 'Bangalore/Bengaluru',\n",
       " 'Pune, Bangalore/Bengaluru(Shivaji Nagar), Mumbai (All Areas)\\n(WFH during Covid)',\n",
       " 'Bangalore/Bengaluru',\n",
       " 'Bangalore/Bengaluru',\n",
       " 'Bangalore/Bengaluru',\n",
       " 'Bangalore/Bengaluru',\n",
       " 'Bangalore/Bengaluru',\n",
       " 'Bangalore/Bengaluru, Mumbai (All Areas)',\n",
       " 'Ahmedabad, Bangalore/Bengaluru']"
      ]
     },
     "execution_count": 13,
     "metadata": {},
     "output_type": "execute_result"
    }
   ],
   "source": [
    "job_location = []\n",
    "\n",
    "for i in locn_tags:\n",
    "    job_location.append(i.text)\n",
    "job_location[0:10]    "
   ]
  },
  {
   "cell_type": "markdown",
   "metadata": {},
   "source": [
    "# Extracting Company Names"
   ]
  },
  {
   "cell_type": "code",
   "execution_count": 14,
   "metadata": {},
   "outputs": [
    {
     "data": {
      "text/plain": [
       "[<selenium.webdriver.remote.webelement.WebElement (session=\"1cac47c6f13f84ffe78e4d0a0d6392d0\", element=\"438c724b-759e-4f46-9328-de62b54a1808\")>,\n",
       " <selenium.webdriver.remote.webelement.WebElement (session=\"1cac47c6f13f84ffe78e4d0a0d6392d0\", element=\"900d9343-c28b-4c95-9b71-a65bd8d01bb4\")>,\n",
       " <selenium.webdriver.remote.webelement.WebElement (session=\"1cac47c6f13f84ffe78e4d0a0d6392d0\", element=\"fc1bb2ed-1a8d-4d49-a4f2-2eef4443da18\")>,\n",
       " <selenium.webdriver.remote.webelement.WebElement (session=\"1cac47c6f13f84ffe78e4d0a0d6392d0\", element=\"960b012d-23af-435f-863b-768d42a1beee\")>,\n",
       " <selenium.webdriver.remote.webelement.WebElement (session=\"1cac47c6f13f84ffe78e4d0a0d6392d0\", element=\"1d2082a6-15ed-472c-8e3b-ca697cf884c0\")>,\n",
       " <selenium.webdriver.remote.webelement.WebElement (session=\"1cac47c6f13f84ffe78e4d0a0d6392d0\", element=\"a863d6c2-6d00-4632-88b0-c6f3b3e1104c\")>,\n",
       " <selenium.webdriver.remote.webelement.WebElement (session=\"1cac47c6f13f84ffe78e4d0a0d6392d0\", element=\"b16587d3-a587-49bf-a9a4-d5da11d26ee0\")>,\n",
       " <selenium.webdriver.remote.webelement.WebElement (session=\"1cac47c6f13f84ffe78e4d0a0d6392d0\", element=\"83609a8f-2800-4989-84fd-d85149bc5e84\")>,\n",
       " <selenium.webdriver.remote.webelement.WebElement (session=\"1cac47c6f13f84ffe78e4d0a0d6392d0\", element=\"55da1dbe-98d1-42be-9fa8-5d4bce328b7e\")>,\n",
       " <selenium.webdriver.remote.webelement.WebElement (session=\"1cac47c6f13f84ffe78e4d0a0d6392d0\", element=\"d6cb213a-53f7-4dd5-8f59-85f84195aec3\")>]"
      ]
     },
     "execution_count": 14,
     "metadata": {},
     "output_type": "execute_result"
    }
   ],
   "source": [
    "# lets extract all web elements having company names\n",
    "company_tags = driver.find_elements_by_xpath('//a[@class=\"subTitle ellipsis fleft\"]')\n",
    "company_tags[0:10]"
   ]
  },
  {
   "cell_type": "code",
   "execution_count": 15,
   "metadata": {},
   "outputs": [
    {
     "data": {
      "text/plain": [
       "['NEST DIGITAL PRIVATE LIMITED',\n",
       " 'Capco',\n",
       " 'SECRET TECHNOLOGIES INDIA VMS GROUP',\n",
       " 'Intuit Inc.',\n",
       " 'K12 Techno Services Pvt Ltd',\n",
       " 'Mobile Premier League',\n",
       " 'Flipkart',\n",
       " 'Flipkart',\n",
       " 'SunEdison',\n",
       " 'Trellance']"
      ]
     },
     "execution_count": 15,
     "metadata": {},
     "output_type": "execute_result"
    }
   ],
   "source": [
    "company_name = []\n",
    "\n",
    "for i in company_tags:\n",
    "    company_name.append(i.text)\n",
    "company_name[0:10]    "
   ]
  },
  {
   "cell_type": "markdown",
   "metadata": {},
   "source": [
    "# Extracting Experience Required"
   ]
  },
  {
   "cell_type": "code",
   "execution_count": 16,
   "metadata": {},
   "outputs": [
    {
     "data": {
      "text/plain": [
       "[<selenium.webdriver.remote.webelement.WebElement (session=\"1cac47c6f13f84ffe78e4d0a0d6392d0\", element=\"f90bafb0-84e0-467c-a6b9-6b7cb903c954\")>,\n",
       " <selenium.webdriver.remote.webelement.WebElement (session=\"1cac47c6f13f84ffe78e4d0a0d6392d0\", element=\"7015620d-7c74-4c86-9dfa-823a932fcd03\")>,\n",
       " <selenium.webdriver.remote.webelement.WebElement (session=\"1cac47c6f13f84ffe78e4d0a0d6392d0\", element=\"05897c2a-093a-4ca1-95d4-9cc9e7a1d0ad\")>,\n",
       " <selenium.webdriver.remote.webelement.WebElement (session=\"1cac47c6f13f84ffe78e4d0a0d6392d0\", element=\"bf11f73c-727c-49db-9377-f36a10b63e33\")>,\n",
       " <selenium.webdriver.remote.webelement.WebElement (session=\"1cac47c6f13f84ffe78e4d0a0d6392d0\", element=\"734618e3-45fa-4448-ae85-97bd3bb0bf7b\")>,\n",
       " <selenium.webdriver.remote.webelement.WebElement (session=\"1cac47c6f13f84ffe78e4d0a0d6392d0\", element=\"a82c74bf-d8fe-454c-8103-475e0803c4bc\")>,\n",
       " <selenium.webdriver.remote.webelement.WebElement (session=\"1cac47c6f13f84ffe78e4d0a0d6392d0\", element=\"e40b32a8-8134-4794-88fb-c54050e8958d\")>,\n",
       " <selenium.webdriver.remote.webelement.WebElement (session=\"1cac47c6f13f84ffe78e4d0a0d6392d0\", element=\"9fee9fbd-bbe3-4efa-81a4-7ede95b0916d\")>,\n",
       " <selenium.webdriver.remote.webelement.WebElement (session=\"1cac47c6f13f84ffe78e4d0a0d6392d0\", element=\"e5540dfa-e8d6-4ed8-be28-cea95d4520aa\")>,\n",
       " <selenium.webdriver.remote.webelement.WebElement (session=\"1cac47c6f13f84ffe78e4d0a0d6392d0\", element=\"54fd4b2e-1810-4e10-affd-7579ee06abbb\")>]"
      ]
     },
     "execution_count": 16,
     "metadata": {},
     "output_type": "execute_result"
    }
   ],
   "source": [
    "# lets extract all web elements having experience\n",
    "exp_tags = driver.find_elements_by_xpath('//li[@class=\"fleft grey-text br2 placeHolderLi experience\"]')\n",
    "exp_tags[0:10]"
   ]
  },
  {
   "cell_type": "code",
   "execution_count": 17,
   "metadata": {},
   "outputs": [
    {
     "data": {
      "text/plain": [
       "['0-1 Yrs',\n",
       " '4-8 Yrs',\n",
       " '0-4 Yrs',\n",
       " '5-7 Yrs',\n",
       " '4-9 Yrs',\n",
       " '3-6 Yrs',\n",
       " '3-6 Yrs',\n",
       " '3-7 Yrs',\n",
       " '2-7 Yrs',\n",
       " '0-2 Yrs']"
      ]
     },
     "execution_count": 17,
     "metadata": {},
     "output_type": "execute_result"
    }
   ],
   "source": [
    "experience_req = []\n",
    "\n",
    "for i in exp_tags:\n",
    "    experience_req.append(i.text)\n",
    "experience_req[0:10]    "
   ]
  },
  {
   "cell_type": "code",
   "execution_count": 18,
   "metadata": {},
   "outputs": [
    {
     "data": {
      "text/plain": [
       "(20, 20, 19, 20)"
      ]
     },
     "execution_count": 18,
     "metadata": {},
     "output_type": "execute_result"
    }
   ],
   "source": [
    "len(job_titles),len(company_name),len(experience_req),len(job_location)"
   ]
  },
  {
   "cell_type": "code",
   "execution_count": 19,
   "metadata": {},
   "outputs": [
    {
     "data": {
      "text/html": [
       "<div>\n",
       "<style scoped>\n",
       "    .dataframe tbody tr th:only-of-type {\n",
       "        vertical-align: middle;\n",
       "    }\n",
       "\n",
       "    .dataframe tbody tr th {\n",
       "        vertical-align: top;\n",
       "    }\n",
       "\n",
       "    .dataframe thead th {\n",
       "        text-align: right;\n",
       "    }\n",
       "</style>\n",
       "<table border=\"1\" class=\"dataframe\">\n",
       "  <thead>\n",
       "    <tr style=\"text-align: right;\">\n",
       "      <th></th>\n",
       "      <th>Job Title</th>\n",
       "      <th>Company Names</th>\n",
       "      <th>Experience</th>\n",
       "      <th>Location</th>\n",
       "    </tr>\n",
       "  </thead>\n",
       "  <tbody>\n",
       "    <tr>\n",
       "      <th>0</th>\n",
       "      <td>Flight data analyst (372)</td>\n",
       "      <td>NEST DIGITAL PRIVATE LIMITED</td>\n",
       "      <td>0-1 Yrs</td>\n",
       "      <td>Bangalore/Bengaluru</td>\n",
       "    </tr>\n",
       "    <tr>\n",
       "      <th>1</th>\n",
       "      <td>Senior Data Analyst</td>\n",
       "      <td>Capco</td>\n",
       "      <td>4-8 Yrs</td>\n",
       "      <td>Bangalore/Bengaluru</td>\n",
       "    </tr>\n",
       "    <tr>\n",
       "      <th>2</th>\n",
       "      <td>software developer &amp; Testing / Business Analys...</td>\n",
       "      <td>SECRET TECHNOLOGIES INDIA VMS GROUP</td>\n",
       "      <td>0-4 Yrs</td>\n",
       "      <td>Pune, Bangalore/Bengaluru(Shivaji Nagar), Mumb...</td>\n",
       "    </tr>\n",
       "    <tr>\n",
       "      <th>3</th>\n",
       "      <td>Staff Business Data Analyst - FDP</td>\n",
       "      <td>Intuit Inc.</td>\n",
       "      <td>5-7 Yrs</td>\n",
       "      <td>Bangalore/Bengaluru</td>\n",
       "    </tr>\n",
       "    <tr>\n",
       "      <th>4</th>\n",
       "      <td>Data Analyst - IIM/ISB/MDI/FMS/SP Jain</td>\n",
       "      <td>K12 Techno Services Pvt Ltd</td>\n",
       "      <td>4-9 Yrs</td>\n",
       "      <td>Bangalore/Bengaluru</td>\n",
       "    </tr>\n",
       "    <tr>\n",
       "      <th>5</th>\n",
       "      <td>Senior Data Analyst</td>\n",
       "      <td>Mobile Premier League</td>\n",
       "      <td>3-6 Yrs</td>\n",
       "      <td>Bangalore/Bengaluru</td>\n",
       "    </tr>\n",
       "    <tr>\n",
       "      <th>6</th>\n",
       "      <td>Senior Data Analyst</td>\n",
       "      <td>Flipkart</td>\n",
       "      <td>3-6 Yrs</td>\n",
       "      <td>Bangalore/Bengaluru</td>\n",
       "    </tr>\n",
       "    <tr>\n",
       "      <th>7</th>\n",
       "      <td>Senior Data Analyst</td>\n",
       "      <td>Flipkart</td>\n",
       "      <td>3-7 Yrs</td>\n",
       "      <td>Bangalore/Bengaluru</td>\n",
       "    </tr>\n",
       "    <tr>\n",
       "      <th>8</th>\n",
       "      <td>Data Analyst</td>\n",
       "      <td>SunEdison</td>\n",
       "      <td>2-7 Yrs</td>\n",
       "      <td>Bangalore/Bengaluru, Mumbai (All Areas)</td>\n",
       "    </tr>\n",
       "    <tr>\n",
       "      <th>9</th>\n",
       "      <td>Looking For Data Analyst</td>\n",
       "      <td>Trellance</td>\n",
       "      <td>0-2 Yrs</td>\n",
       "      <td>Ahmedabad, Bangalore/Bengaluru</td>\n",
       "    </tr>\n",
       "  </tbody>\n",
       "</table>\n",
       "</div>"
      ],
      "text/plain": [
       "                                           Job Title  \\\n",
       "0                          Flight data analyst (372)   \n",
       "1                                Senior Data Analyst   \n",
       "2  software developer & Testing / Business Analys...   \n",
       "3                  Staff Business Data Analyst - FDP   \n",
       "4             Data Analyst - IIM/ISB/MDI/FMS/SP Jain   \n",
       "5                                Senior Data Analyst   \n",
       "6                                Senior Data Analyst   \n",
       "7                                Senior Data Analyst   \n",
       "8                                       Data Analyst   \n",
       "9                           Looking For Data Analyst   \n",
       "\n",
       "                         Company Names Experience  \\\n",
       "0         NEST DIGITAL PRIVATE LIMITED    0-1 Yrs   \n",
       "1                                Capco    4-8 Yrs   \n",
       "2  SECRET TECHNOLOGIES INDIA VMS GROUP    0-4 Yrs   \n",
       "3                          Intuit Inc.    5-7 Yrs   \n",
       "4          K12 Techno Services Pvt Ltd    4-9 Yrs   \n",
       "5                Mobile Premier League    3-6 Yrs   \n",
       "6                             Flipkart    3-6 Yrs   \n",
       "7                             Flipkart    3-7 Yrs   \n",
       "8                            SunEdison    2-7 Yrs   \n",
       "9                            Trellance    0-2 Yrs   \n",
       "\n",
       "                                            Location  \n",
       "0                                Bangalore/Bengaluru  \n",
       "1                                Bangalore/Bengaluru  \n",
       "2  Pune, Bangalore/Bengaluru(Shivaji Nagar), Mumb...  \n",
       "3                                Bangalore/Bengaluru  \n",
       "4                                Bangalore/Bengaluru  \n",
       "5                                Bangalore/Bengaluru  \n",
       "6                                Bangalore/Bengaluru  \n",
       "7                                Bangalore/Bengaluru  \n",
       "8            Bangalore/Bengaluru, Mumbai (All Areas)  \n",
       "9                     Ahmedabad, Bangalore/Bengaluru  "
      ]
     },
     "execution_count": 19,
     "metadata": {},
     "output_type": "execute_result"
    }
   ],
   "source": [
    "jobs=pd.DataFrame()\n",
    "jobs['Job Title']= job_titles[0:10]\n",
    "jobs['Company Names']= company_name[0:10]\n",
    "jobs['Experience']= experience_req[0:10]\n",
    "jobs['Location']= job_location[0:10]\n",
    "jobs"
   ]
  },
  {
   "cell_type": "code",
   "execution_count": null,
   "metadata": {},
   "outputs": [],
   "source": []
  },
  {
   "cell_type": "code",
   "execution_count": null,
   "metadata": {},
   "outputs": [],
   "source": []
  },
  {
   "cell_type": "raw",
   "metadata": {},
   "source": [
    "Q2: Write a python program to scrape data for “Data Scientist” Job position in “Bangalore” location. You\n",
    "have to scrape the job-title, job-location, company_name. You have to scrape first 10 jobs data.\n",
    "This task will be done in following steps:\n",
    "1. First get the webpage https://www.naukri.com/\n",
    "2. Enter “Data Scientist” in “Skill, Designations, Companies” field and enter “Bangalore” in “enter the\n",
    "location” field.\n",
    "3. Then click the search button.\n",
    "4. Then scrape the data for the first 10 jobs results you get.\n",
    "5. Finally create a dataframe of the scraped data"
   ]
  },
  {
   "cell_type": "code",
   "execution_count": 20,
   "metadata": {},
   "outputs": [],
   "source": [
    "# let's import all required libraries\n",
    "import selenium\n",
    "from selenium import webdriver\n",
    "import pandas as pd\n",
    "import warnings\n",
    "warnings.filterwarnings('ignore')"
   ]
  },
  {
   "cell_type": "code",
   "execution_count": 21,
   "metadata": {},
   "outputs": [],
   "source": [
    "#Lets's connect to web driver\n",
    "driver = webdriver.Chrome('chromedriver.exe')"
   ]
  },
  {
   "cell_type": "code",
   "execution_count": 22,
   "metadata": {},
   "outputs": [],
   "source": [
    "url = 'https://www.naukri.com/'\n",
    "driver.get(url)"
   ]
  },
  {
   "cell_type": "code",
   "execution_count": 23,
   "metadata": {},
   "outputs": [
    {
     "data": {
      "text/plain": [
       "<selenium.webdriver.remote.webelement.WebElement (session=\"08777849735f96963c9101a935633c6f\", element=\"70c53290-0781-4793-88f4-0a4f654c7494\")>"
      ]
     },
     "execution_count": 23,
     "metadata": {},
     "output_type": "execute_result"
    }
   ],
   "source": [
    "# finding web element for search job bar using id\n",
    "search_job = driver.find_element_by_class_name(\"suggestor-input\")\n",
    "search_job"
   ]
  },
  {
   "cell_type": "code",
   "execution_count": 24,
   "metadata": {},
   "outputs": [],
   "source": [
    "#write on search bar\n",
    "search_job.send_keys(\"Data Scientist\")"
   ]
  },
  {
   "cell_type": "code",
   "execution_count": 25,
   "metadata": {},
   "outputs": [
    {
     "data": {
      "text/plain": [
       "<selenium.webdriver.remote.webelement.WebElement (session=\"08777849735f96963c9101a935633c6f\", element=\"8fadda7b-03e4-462d-a1af-6d160e56e658\")>"
      ]
     },
     "execution_count": 25,
     "metadata": {},
     "output_type": "execute_result"
    }
   ],
   "source": [
    "search_locn = driver.find_element_by_xpath(\"/html/body/div/div[2]/div[3]/div/div/div[3]/div/div/div/input\")\n",
    "search_locn"
   ]
  },
  {
   "cell_type": "code",
   "execution_count": 26,
   "metadata": {},
   "outputs": [
    {
     "data": {
      "text/plain": [
       "<selenium.webdriver.remote.webelement.WebElement (session=\"08777849735f96963c9101a935633c6f\", element=\"8fadda7b-03e4-462d-a1af-6d160e56e658\")>"
      ]
     },
     "execution_count": 26,
     "metadata": {},
     "output_type": "execute_result"
    }
   ],
   "source": [
    "search_locn.send_keys(\"Banglore\")\n",
    "search_locn"
   ]
  },
  {
   "cell_type": "code",
   "execution_count": 27,
   "metadata": {},
   "outputs": [
    {
     "data": {
      "text/plain": [
       "<selenium.webdriver.remote.webelement.WebElement (session=\"08777849735f96963c9101a935633c6f\", element=\"23e29ad3-fbf1-43b2-ae74-bfe9c623b11b\")>"
      ]
     },
     "execution_count": 27,
     "metadata": {},
     "output_type": "execute_result"
    }
   ],
   "source": [
    "search_btn = driver.find_element_by_xpath('/html/body/div/div[2]/div[3]/div/div/div[6]')\n",
    "search_btn"
   ]
  },
  {
   "cell_type": "code",
   "execution_count": 28,
   "metadata": {},
   "outputs": [],
   "source": [
    "search_btn.click()"
   ]
  },
  {
   "cell_type": "markdown",
   "metadata": {},
   "source": [
    "# Extraction Job Titles"
   ]
  },
  {
   "cell_type": "code",
   "execution_count": 29,
   "metadata": {},
   "outputs": [
    {
     "data": {
      "text/plain": [
       "[<selenium.webdriver.remote.webelement.WebElement (session=\"08777849735f96963c9101a935633c6f\", element=\"a4be8686-5af8-4249-baaf-b19902414caa\")>,\n",
       " <selenium.webdriver.remote.webelement.WebElement (session=\"08777849735f96963c9101a935633c6f\", element=\"b6feb774-3b6e-4d9f-b327-2634050d1b2c\")>,\n",
       " <selenium.webdriver.remote.webelement.WebElement (session=\"08777849735f96963c9101a935633c6f\", element=\"0a0c0bc3-2ab9-4d27-a1d0-8b3fa8ab9125\")>,\n",
       " <selenium.webdriver.remote.webelement.WebElement (session=\"08777849735f96963c9101a935633c6f\", element=\"4992da6f-4b1d-4026-bcf6-8c9663fddb6b\")>,\n",
       " <selenium.webdriver.remote.webelement.WebElement (session=\"08777849735f96963c9101a935633c6f\", element=\"3fe5d48f-4709-4b0f-84ca-68d7b72df4a4\")>,\n",
       " <selenium.webdriver.remote.webelement.WebElement (session=\"08777849735f96963c9101a935633c6f\", element=\"dc343dac-2473-4ccf-946d-f5d3c326286e\")>,\n",
       " <selenium.webdriver.remote.webelement.WebElement (session=\"08777849735f96963c9101a935633c6f\", element=\"056ad7be-a790-41c7-a382-ae1ab6b14fc0\")>,\n",
       " <selenium.webdriver.remote.webelement.WebElement (session=\"08777849735f96963c9101a935633c6f\", element=\"fbd9e4d7-bbb6-45f1-8416-cb07c7714b36\")>,\n",
       " <selenium.webdriver.remote.webelement.WebElement (session=\"08777849735f96963c9101a935633c6f\", element=\"3025d1fb-53ed-4776-9898-08a557c9c46c\")>,\n",
       " <selenium.webdriver.remote.webelement.WebElement (session=\"08777849735f96963c9101a935633c6f\", element=\"f2ac0345-66b8-4a85-ac8e-9bb7eae801e8\")>]"
      ]
     },
     "execution_count": 29,
     "metadata": {},
     "output_type": "execute_result"
    }
   ],
   "source": [
    "# lets extract all web elements having job titles\n",
    "title_tags = driver.find_elements_by_xpath('//a[@class=\"title fw500 ellipsis\"]')\n",
    "title_tags[0:10]"
   ]
  },
  {
   "cell_type": "code",
   "execution_count": 30,
   "metadata": {},
   "outputs": [
    {
     "data": {
      "text/plain": [
       "['Senior/ Lead Data Scientist',\n",
       " 'Data Scientist / Analyst',\n",
       " 'Forecasting Analyst/ Data Scientist (US Client)',\n",
       " 'Consultant - Junior Data Scientist',\n",
       " 'Excellent Opportunity For Freshers For AI/ML, Data Scientist, BI, QA',\n",
       " 'Junior Data Scientist',\n",
       " 'Data Scientist',\n",
       " 'Data Scientist',\n",
       " 'Data Scientist: Artificial Intelligence',\n",
       " 'Senior Data Scientist']"
      ]
     },
     "execution_count": 30,
     "metadata": {},
     "output_type": "execute_result"
    }
   ],
   "source": [
    "job_titles=[]\n",
    "\n",
    "for i in title_tags:\n",
    "    job_titles.append(i.text)\n",
    "job_titles[0:10]   "
   ]
  },
  {
   "cell_type": "markdown",
   "metadata": {},
   "source": [
    "# Extracting Job Location"
   ]
  },
  {
   "cell_type": "code",
   "execution_count": 31,
   "metadata": {},
   "outputs": [
    {
     "data": {
      "text/plain": [
       "[<selenium.webdriver.remote.webelement.WebElement (session=\"08777849735f96963c9101a935633c6f\", element=\"c854b2b0-6804-4a56-8f6a-5cbadf68e9a6\")>,\n",
       " <selenium.webdriver.remote.webelement.WebElement (session=\"08777849735f96963c9101a935633c6f\", element=\"7535c9b6-e14c-45af-a676-8d9c6c863667\")>,\n",
       " <selenium.webdriver.remote.webelement.WebElement (session=\"08777849735f96963c9101a935633c6f\", element=\"a55d22d0-937e-45c4-a79d-edea7c8de3f3\")>,\n",
       " <selenium.webdriver.remote.webelement.WebElement (session=\"08777849735f96963c9101a935633c6f\", element=\"d0255a6e-3ea8-4a93-ba45-aded8d2c29e7\")>,\n",
       " <selenium.webdriver.remote.webelement.WebElement (session=\"08777849735f96963c9101a935633c6f\", element=\"1d7fdaae-fce0-4f34-9a27-7d3c93d92cdf\")>,\n",
       " <selenium.webdriver.remote.webelement.WebElement (session=\"08777849735f96963c9101a935633c6f\", element=\"512be569-ba4a-4153-b0f9-74fbae400943\")>,\n",
       " <selenium.webdriver.remote.webelement.WebElement (session=\"08777849735f96963c9101a935633c6f\", element=\"27329b74-3ddd-4f89-b2e8-b1ff3aa347cb\")>,\n",
       " <selenium.webdriver.remote.webelement.WebElement (session=\"08777849735f96963c9101a935633c6f\", element=\"05a81807-77d5-4c9c-a469-49082fd16e79\")>,\n",
       " <selenium.webdriver.remote.webelement.WebElement (session=\"08777849735f96963c9101a935633c6f\", element=\"b4d967fc-91c2-4a6e-adb5-079177f9b0ac\")>,\n",
       " <selenium.webdriver.remote.webelement.WebElement (session=\"08777849735f96963c9101a935633c6f\", element=\"88d70215-d25f-4f7a-8b01-cbfde4c14eee\")>]"
      ]
     },
     "execution_count": 31,
     "metadata": {},
     "output_type": "execute_result"
    }
   ],
   "source": [
    "# lets extract all web elements having location\n",
    "locn_tags = driver.find_elements_by_xpath('//li[@class=\"fleft grey-text br2 placeHolderLi location\"]')\n",
    "locn_tags[0:10]"
   ]
  },
  {
   "cell_type": "code",
   "execution_count": 32,
   "metadata": {},
   "outputs": [
    {
     "data": {
      "text/plain": [
       "['Bangalore/Bengaluru',\n",
       " 'Bangalore/Bengaluru',\n",
       " 'Gurgaon/Gurugram, Bangalore/Bengaluru\\n(WFH during Covid)',\n",
       " 'Navi Mumbai, New Delhi, Bangalore/Bengaluru',\n",
       " 'Noida, Kolkata, Hyderabad/Secunderabad, Pune, Chennai, Bangalore/Bengaluru, Delhi / NCR, Mumbai (All Areas)\\n(WFH during Covid)',\n",
       " 'Bangalore/Bengaluru',\n",
       " 'Hyderabad/Secunderabad, Pune, Bangalore/Bengaluru',\n",
       " 'Bangalore/Bengaluru',\n",
       " 'Bangalore/Bengaluru',\n",
       " 'Bangalore/Bengaluru']"
      ]
     },
     "execution_count": 32,
     "metadata": {},
     "output_type": "execute_result"
    }
   ],
   "source": [
    "job_location = []\n",
    "\n",
    "for i in locn_tags:\n",
    "    job_location.append(i.text)\n",
    "job_location[0:10]   "
   ]
  },
  {
   "cell_type": "markdown",
   "metadata": {},
   "source": [
    "# Extracting Company Names"
   ]
  },
  {
   "cell_type": "code",
   "execution_count": 33,
   "metadata": {},
   "outputs": [
    {
     "data": {
      "text/plain": [
       "[<selenium.webdriver.remote.webelement.WebElement (session=\"08777849735f96963c9101a935633c6f\", element=\"e659600c-60ea-4572-9150-0df6df70802e\")>,\n",
       " <selenium.webdriver.remote.webelement.WebElement (session=\"08777849735f96963c9101a935633c6f\", element=\"6d81a143-2991-4f7f-9627-7b050bc715c3\")>,\n",
       " <selenium.webdriver.remote.webelement.WebElement (session=\"08777849735f96963c9101a935633c6f\", element=\"9c36413a-010e-4841-9b85-f73e70c263fd\")>,\n",
       " <selenium.webdriver.remote.webelement.WebElement (session=\"08777849735f96963c9101a935633c6f\", element=\"f4b01712-1325-4cfb-80a6-f10026b92fb6\")>,\n",
       " <selenium.webdriver.remote.webelement.WebElement (session=\"08777849735f96963c9101a935633c6f\", element=\"2548f7d7-a3b3-442b-93d9-c1e627bd3129\")>,\n",
       " <selenium.webdriver.remote.webelement.WebElement (session=\"08777849735f96963c9101a935633c6f\", element=\"e683e970-d90c-4b64-986a-6e1f7699f86c\")>,\n",
       " <selenium.webdriver.remote.webelement.WebElement (session=\"08777849735f96963c9101a935633c6f\", element=\"bb06000a-22ce-4ee4-b6fa-ddb2b8397f31\")>,\n",
       " <selenium.webdriver.remote.webelement.WebElement (session=\"08777849735f96963c9101a935633c6f\", element=\"bb527e95-d40f-4f2e-9021-6f0528126590\")>,\n",
       " <selenium.webdriver.remote.webelement.WebElement (session=\"08777849735f96963c9101a935633c6f\", element=\"27eb3984-39ef-40f7-8309-46d35404a81f\")>,\n",
       " <selenium.webdriver.remote.webelement.WebElement (session=\"08777849735f96963c9101a935633c6f\", element=\"19ff0f33-1f3d-431f-aaed-480c92b42766\")>]"
      ]
     },
     "execution_count": 33,
     "metadata": {},
     "output_type": "execute_result"
    }
   ],
   "source": [
    "# lets extract all web elements having company names\n",
    "company_tags = driver.find_elements_by_xpath('//a[@class=\"subTitle ellipsis fleft\"]')\n",
    "company_tags[0:10]"
   ]
  },
  {
   "cell_type": "code",
   "execution_count": 34,
   "metadata": {},
   "outputs": [
    {
     "data": {
      "text/plain": [
       "['AmoliTalents',\n",
       " 'open data fabric',\n",
       " 'Concentrix',\n",
       " 'Flexing It',\n",
       " 'NTT Data',\n",
       " 'Titan',\n",
       " 'Amazon',\n",
       " 'Hewlett-Packard (HP)',\n",
       " 'IBM',\n",
       " 'newscorp']"
      ]
     },
     "execution_count": 34,
     "metadata": {},
     "output_type": "execute_result"
    }
   ],
   "source": [
    "company_names = []\n",
    "\n",
    "for i in company_tags:\n",
    "    company_names.append(i.text)\n",
    "company_names[0:10]   "
   ]
  },
  {
   "cell_type": "code",
   "execution_count": 35,
   "metadata": {},
   "outputs": [
    {
     "data": {
      "text/plain": [
       "(20, 20, 20)"
      ]
     },
     "execution_count": 35,
     "metadata": {},
     "output_type": "execute_result"
    }
   ],
   "source": [
    "len(job_titles),len(company_names),len(job_location)"
   ]
  },
  {
   "cell_type": "code",
   "execution_count": 36,
   "metadata": {},
   "outputs": [
    {
     "data": {
      "text/html": [
       "<div>\n",
       "<style scoped>\n",
       "    .dataframe tbody tr th:only-of-type {\n",
       "        vertical-align: middle;\n",
       "    }\n",
       "\n",
       "    .dataframe tbody tr th {\n",
       "        vertical-align: top;\n",
       "    }\n",
       "\n",
       "    .dataframe thead th {\n",
       "        text-align: right;\n",
       "    }\n",
       "</style>\n",
       "<table border=\"1\" class=\"dataframe\">\n",
       "  <thead>\n",
       "    <tr style=\"text-align: right;\">\n",
       "      <th></th>\n",
       "      <th>Job Title</th>\n",
       "      <th>Company Names</th>\n",
       "      <th>Location</th>\n",
       "    </tr>\n",
       "  </thead>\n",
       "  <tbody>\n",
       "    <tr>\n",
       "      <th>0</th>\n",
       "      <td>Senior/ Lead Data Scientist</td>\n",
       "      <td>AmoliTalents</td>\n",
       "      <td>Bangalore/Bengaluru</td>\n",
       "    </tr>\n",
       "    <tr>\n",
       "      <th>1</th>\n",
       "      <td>Data Scientist / Analyst</td>\n",
       "      <td>open data fabric</td>\n",
       "      <td>Bangalore/Bengaluru</td>\n",
       "    </tr>\n",
       "    <tr>\n",
       "      <th>2</th>\n",
       "      <td>Forecasting Analyst/ Data Scientist (US Client)</td>\n",
       "      <td>Concentrix</td>\n",
       "      <td>Gurgaon/Gurugram, Bangalore/Bengaluru\\n(WFH du...</td>\n",
       "    </tr>\n",
       "    <tr>\n",
       "      <th>3</th>\n",
       "      <td>Consultant - Junior Data Scientist</td>\n",
       "      <td>Flexing It</td>\n",
       "      <td>Navi Mumbai, New Delhi, Bangalore/Bengaluru</td>\n",
       "    </tr>\n",
       "    <tr>\n",
       "      <th>4</th>\n",
       "      <td>Excellent Opportunity For Freshers For AI/ML, ...</td>\n",
       "      <td>NTT Data</td>\n",
       "      <td>Noida, Kolkata, Hyderabad/Secunderabad, Pune, ...</td>\n",
       "    </tr>\n",
       "    <tr>\n",
       "      <th>5</th>\n",
       "      <td>Junior Data Scientist</td>\n",
       "      <td>Titan</td>\n",
       "      <td>Bangalore/Bengaluru</td>\n",
       "    </tr>\n",
       "    <tr>\n",
       "      <th>6</th>\n",
       "      <td>Data Scientist</td>\n",
       "      <td>Amazon</td>\n",
       "      <td>Hyderabad/Secunderabad, Pune, Bangalore/Bengaluru</td>\n",
       "    </tr>\n",
       "    <tr>\n",
       "      <th>7</th>\n",
       "      <td>Data Scientist</td>\n",
       "      <td>Hewlett-Packard (HP)</td>\n",
       "      <td>Bangalore/Bengaluru</td>\n",
       "    </tr>\n",
       "    <tr>\n",
       "      <th>8</th>\n",
       "      <td>Data Scientist: Artificial Intelligence</td>\n",
       "      <td>IBM</td>\n",
       "      <td>Bangalore/Bengaluru</td>\n",
       "    </tr>\n",
       "    <tr>\n",
       "      <th>9</th>\n",
       "      <td>Senior Data Scientist</td>\n",
       "      <td>newscorp</td>\n",
       "      <td>Bangalore/Bengaluru</td>\n",
       "    </tr>\n",
       "  </tbody>\n",
       "</table>\n",
       "</div>"
      ],
      "text/plain": [
       "                                           Job Title         Company Names  \\\n",
       "0                        Senior/ Lead Data Scientist          AmoliTalents   \n",
       "1                           Data Scientist / Analyst      open data fabric   \n",
       "2    Forecasting Analyst/ Data Scientist (US Client)            Concentrix   \n",
       "3                 Consultant - Junior Data Scientist            Flexing It   \n",
       "4  Excellent Opportunity For Freshers For AI/ML, ...              NTT Data   \n",
       "5                              Junior Data Scientist                 Titan   \n",
       "6                                     Data Scientist                Amazon   \n",
       "7                                     Data Scientist  Hewlett-Packard (HP)   \n",
       "8            Data Scientist: Artificial Intelligence                   IBM   \n",
       "9                              Senior Data Scientist              newscorp   \n",
       "\n",
       "                                            Location  \n",
       "0                                Bangalore/Bengaluru  \n",
       "1                                Bangalore/Bengaluru  \n",
       "2  Gurgaon/Gurugram, Bangalore/Bengaluru\\n(WFH du...  \n",
       "3        Navi Mumbai, New Delhi, Bangalore/Bengaluru  \n",
       "4  Noida, Kolkata, Hyderabad/Secunderabad, Pune, ...  \n",
       "5                                Bangalore/Bengaluru  \n",
       "6  Hyderabad/Secunderabad, Pune, Bangalore/Bengaluru  \n",
       "7                                Bangalore/Bengaluru  \n",
       "8                                Bangalore/Bengaluru  \n",
       "9                                Bangalore/Bengaluru  "
      ]
     },
     "execution_count": 36,
     "metadata": {},
     "output_type": "execute_result"
    }
   ],
   "source": [
    "jobs=pd.DataFrame()\n",
    "jobs['Job Title']= job_titles\n",
    "jobs['Company Names']= company_names\n",
    "jobs['Location']= job_location\n",
    "jobs[0:10]"
   ]
  },
  {
   "cell_type": "raw",
   "metadata": {},
   "source": [
    "Q3)In this question you have to scrape data using the filters available on the webpage as shown below:\n",
    "You have to use the location and salary filter.\n",
    "You have to scrape data for “Data Scientist” designation for first 10 job results.\n",
    "You have to scrape the job-title, job-location, company name, experience required.\n",
    "The location filter to be used is “Delhi/NCR”. The salary filter to be used is “3-6” lakhs\n",
    "The task will be done as shown in the below steps:\n",
    "1. first get the webpage https://www.naukri.com/\n",
    "2. Enter “Data Scientist” in “Skill, Designations, and Companies” field.\n",
    "3. Then click the search button.\n",
    "4. Then apply the location filter and salary filter by checking the respective boxes\n",
    "5. Then scrape the data for the first 10 jobs results you get.\n",
    "6. Finally create a dataframe of the scraped data."
   ]
  },
  {
   "cell_type": "code",
   "execution_count": 38,
   "metadata": {},
   "outputs": [],
   "source": [
    "# let's import all required libraries\n",
    "import selenium\n",
    "from selenium import webdriver\n",
    "import pandas as pd\n",
    "import warnings\n",
    "warnings.filterwarnings('ignore')"
   ]
  },
  {
   "cell_type": "code",
   "execution_count": 39,
   "metadata": {},
   "outputs": [],
   "source": [
    "#Lets's connect to web driver\n",
    "driver = webdriver.Chrome('chromedriver.exe')"
   ]
  },
  {
   "cell_type": "code",
   "execution_count": 40,
   "metadata": {},
   "outputs": [],
   "source": [
    "url = 'https://www.naukri.com/'\n",
    "driver.get(url)"
   ]
  },
  {
   "cell_type": "code",
   "execution_count": 41,
   "metadata": {},
   "outputs": [
    {
     "data": {
      "text/plain": [
       "<selenium.webdriver.remote.webelement.WebElement (session=\"6f82b23276a391c73f9420355c0b88a6\", element=\"2921089e-c949-487f-923c-16d5f3ae2e0d\")>"
      ]
     },
     "execution_count": 41,
     "metadata": {},
     "output_type": "execute_result"
    }
   ],
   "source": [
    "# finding web element for search job bar using id\n",
    "search_job = driver.find_element_by_class_name(\"suggestor-input\")\n",
    "search_job"
   ]
  },
  {
   "cell_type": "code",
   "execution_count": 42,
   "metadata": {},
   "outputs": [],
   "source": [
    "#write on search bar\n",
    "search_job.send_keys(\"Data Scientist\")"
   ]
  },
  {
   "cell_type": "code",
   "execution_count": 43,
   "metadata": {},
   "outputs": [
    {
     "data": {
      "text/plain": [
       "<selenium.webdriver.remote.webelement.WebElement (session=\"6f82b23276a391c73f9420355c0b88a6\", element=\"95f0902c-70dd-4813-b9da-2cdaff810f46\")>"
      ]
     },
     "execution_count": 43,
     "metadata": {},
     "output_type": "execute_result"
    }
   ],
   "source": [
    "search_btn = driver.find_element_by_xpath('/html/body/div/div[2]/div[3]/div/div/div[6]')\n",
    "search_btn"
   ]
  },
  {
   "cell_type": "code",
   "execution_count": 44,
   "metadata": {},
   "outputs": [],
   "source": [
    "search_btn.click()"
   ]
  },
  {
   "cell_type": "code",
   "execution_count": 45,
   "metadata": {},
   "outputs": [
    {
     "data": {
      "text/plain": [
       "<selenium.webdriver.remote.webelement.WebElement (session=\"6f82b23276a391c73f9420355c0b88a6\", element=\"b95955f4-07be-4d6a-a901-1aaa16c0dfe7\")>"
      ]
     },
     "execution_count": 45,
     "metadata": {},
     "output_type": "execute_result"
    }
   ],
   "source": [
    "location_check = driver.find_element_by_xpath('/html/body/div[1]/div[3]/div[2]/section[1]/div[2]/div[3]/div[2]/div[3]/label/i')\n",
    "location_check"
   ]
  },
  {
   "cell_type": "code",
   "execution_count": 46,
   "metadata": {},
   "outputs": [],
   "source": [
    "location_check.click()"
   ]
  },
  {
   "cell_type": "code",
   "execution_count": 47,
   "metadata": {},
   "outputs": [
    {
     "data": {
      "text/plain": [
       "<selenium.webdriver.remote.webelement.WebElement (session=\"6f82b23276a391c73f9420355c0b88a6\", element=\"a4d66188-955b-4941-b78f-3e378c9652a7\")>"
      ]
     },
     "execution_count": 47,
     "metadata": {},
     "output_type": "execute_result"
    }
   ],
   "source": [
    "salary_check = driver.find_element_by_xpath('/html/body/div[1]/div[3]/div[2]/section[1]/div[2]/div[4]/div[2]/div[2]/label/i')\n",
    "salary_check"
   ]
  },
  {
   "cell_type": "code",
   "execution_count": 48,
   "metadata": {},
   "outputs": [],
   "source": [
    "salary_check.click()"
   ]
  },
  {
   "cell_type": "markdown",
   "metadata": {},
   "source": [
    "# Extracting Job Titles"
   ]
  },
  {
   "cell_type": "code",
   "execution_count": 49,
   "metadata": {},
   "outputs": [
    {
     "data": {
      "text/plain": [
       "[<selenium.webdriver.remote.webelement.WebElement (session=\"6f82b23276a391c73f9420355c0b88a6\", element=\"92c7bb12-fd33-4272-a03a-439ab3ed7420\")>,\n",
       " <selenium.webdriver.remote.webelement.WebElement (session=\"6f82b23276a391c73f9420355c0b88a6\", element=\"ee294659-1e5a-469b-8da3-5fac611ce928\")>,\n",
       " <selenium.webdriver.remote.webelement.WebElement (session=\"6f82b23276a391c73f9420355c0b88a6\", element=\"aafaf0ed-a8d0-4afa-9278-44997f1d879b\")>,\n",
       " <selenium.webdriver.remote.webelement.WebElement (session=\"6f82b23276a391c73f9420355c0b88a6\", element=\"ebe2b5bd-f24b-4abb-a80d-5ea8c21ff3cb\")>,\n",
       " <selenium.webdriver.remote.webelement.WebElement (session=\"6f82b23276a391c73f9420355c0b88a6\", element=\"4bb8af46-b7ee-4c99-8b1c-028e5ee5bda1\")>,\n",
       " <selenium.webdriver.remote.webelement.WebElement (session=\"6f82b23276a391c73f9420355c0b88a6\", element=\"05da647f-267d-466e-80d1-d3d604f7bd81\")>,\n",
       " <selenium.webdriver.remote.webelement.WebElement (session=\"6f82b23276a391c73f9420355c0b88a6\", element=\"224c6b2e-db15-4b50-83ee-ced00eefc6fb\")>,\n",
       " <selenium.webdriver.remote.webelement.WebElement (session=\"6f82b23276a391c73f9420355c0b88a6\", element=\"570c03f4-666e-4a91-8b57-fa8ed86efa3f\")>,\n",
       " <selenium.webdriver.remote.webelement.WebElement (session=\"6f82b23276a391c73f9420355c0b88a6\", element=\"6e6cc959-dae2-441e-87d3-f32e2d864472\")>,\n",
       " <selenium.webdriver.remote.webelement.WebElement (session=\"6f82b23276a391c73f9420355c0b88a6\", element=\"4dc18938-c4c5-498d-a4f6-bb6dd45b74e8\")>]"
      ]
     },
     "execution_count": 49,
     "metadata": {},
     "output_type": "execute_result"
    }
   ],
   "source": [
    "# lets extract all web elements having job titles\n",
    "title_tags = driver.find_elements_by_xpath('//a[@class=\"title fw500 ellipsis\"]')\n",
    "title_tags[0:10]"
   ]
  },
  {
   "cell_type": "code",
   "execution_count": 50,
   "metadata": {},
   "outputs": [
    {
     "data": {
      "text/plain": [
       "['Excellent Opportunity For Freshers For AI/ML, Data Scientist, BI, QA',\n",
       " 'Junior Data Analyst/ Scientist- Fresher Position',\n",
       " 'Hiring For Data Scientist',\n",
       " 'Only Fresher / Python Data Scientist / Trainee / Analytics - MNC Jobs',\n",
       " 'Data Scientist - MIND Infotech',\n",
       " 'Data Scientist - MIND Infotech',\n",
       " 'Lead Data Scientist',\n",
       " 'Urgent Requirement || Data Scientist || Noida',\n",
       " 'Data Analyst / Data Scientist / Business Analytics / Fresher - MNC',\n",
       " 'Data Scientist-Onsite and offshore']"
      ]
     },
     "execution_count": 50,
     "metadata": {},
     "output_type": "execute_result"
    }
   ],
   "source": [
    "job_titles=[]\n",
    "\n",
    "for i in title_tags:\n",
    "    job_titles.append(i.text)\n",
    "job_titles[0:10]   "
   ]
  },
  {
   "cell_type": "markdown",
   "metadata": {},
   "source": [
    "# Extracting Company Names"
   ]
  },
  {
   "cell_type": "code",
   "execution_count": 51,
   "metadata": {},
   "outputs": [
    {
     "data": {
      "text/plain": [
       "[<selenium.webdriver.remote.webelement.WebElement (session=\"6f82b23276a391c73f9420355c0b88a6\", element=\"5a1e675b-0cac-4dea-8840-3bc42ff1fc2b\")>,\n",
       " <selenium.webdriver.remote.webelement.WebElement (session=\"6f82b23276a391c73f9420355c0b88a6\", element=\"91b285c4-5426-4047-a61b-9536fb177378\")>,\n",
       " <selenium.webdriver.remote.webelement.WebElement (session=\"6f82b23276a391c73f9420355c0b88a6\", element=\"196f2817-35d1-4dfc-89b7-93ff5ce055ab\")>,\n",
       " <selenium.webdriver.remote.webelement.WebElement (session=\"6f82b23276a391c73f9420355c0b88a6\", element=\"9129cdd6-ca69-4154-a361-8f13e0144bbb\")>,\n",
       " <selenium.webdriver.remote.webelement.WebElement (session=\"6f82b23276a391c73f9420355c0b88a6\", element=\"b238ebe4-4fcf-4ff6-b78f-1ca124928148\")>,\n",
       " <selenium.webdriver.remote.webelement.WebElement (session=\"6f82b23276a391c73f9420355c0b88a6\", element=\"5b9f4f67-2ebb-4d52-8cbd-9d72d55adb19\")>,\n",
       " <selenium.webdriver.remote.webelement.WebElement (session=\"6f82b23276a391c73f9420355c0b88a6\", element=\"e7a5f3c9-0469-4ad4-8b93-81da6767bee1\")>,\n",
       " <selenium.webdriver.remote.webelement.WebElement (session=\"6f82b23276a391c73f9420355c0b88a6\", element=\"96f02fca-1db7-4473-ba74-98577c407cda\")>,\n",
       " <selenium.webdriver.remote.webelement.WebElement (session=\"6f82b23276a391c73f9420355c0b88a6\", element=\"24653820-f212-48a3-99dc-2ba35ea89b33\")>,\n",
       " <selenium.webdriver.remote.webelement.WebElement (session=\"6f82b23276a391c73f9420355c0b88a6\", element=\"b78afd48-6cbb-43c4-bef6-78d2dda24887\")>]"
      ]
     },
     "execution_count": 51,
     "metadata": {},
     "output_type": "execute_result"
    }
   ],
   "source": [
    "# lets extract all web elements having company names\n",
    "company_tags = driver.find_elements_by_xpath('//a[@class=\"subTitle ellipsis fleft\"]')\n",
    "company_tags[0:10]"
   ]
  },
  {
   "cell_type": "code",
   "execution_count": 52,
   "metadata": {},
   "outputs": [
    {
     "data": {
      "text/plain": [
       "['NTT Data',\n",
       " 'Sejal Consulting Hub',\n",
       " 'Lumiq.ai',\n",
       " 'GABA Consultancy services',\n",
       " 'MOTHERSONSUMI INFOTECH & DESIGNS LIMITED',\n",
       " 'MOTHERSONSUMI INFOTECH & DESIGNS LIMITED',\n",
       " 'Indihire HR Consultants Private Limited',\n",
       " 'HCL',\n",
       " 'GABA Consultancy services',\n",
       " 'PROKXIMITY']"
      ]
     },
     "execution_count": 52,
     "metadata": {},
     "output_type": "execute_result"
    }
   ],
   "source": [
    "company_names = []\n",
    "\n",
    "for i in company_tags:\n",
    "    company_names.append(i.text)\n",
    "company_names[0:10]   "
   ]
  },
  {
   "cell_type": "markdown",
   "metadata": {},
   "source": [
    "# Extracting experience Required"
   ]
  },
  {
   "cell_type": "code",
   "execution_count": 53,
   "metadata": {},
   "outputs": [
    {
     "data": {
      "text/plain": [
       "[<selenium.webdriver.remote.webelement.WebElement (session=\"6f82b23276a391c73f9420355c0b88a6\", element=\"266a8124-4f97-437d-a8bf-704e28ec0ae8\")>,\n",
       " <selenium.webdriver.remote.webelement.WebElement (session=\"6f82b23276a391c73f9420355c0b88a6\", element=\"19ad63ac-6d6e-4345-842a-4bcb6ebf74a5\")>,\n",
       " <selenium.webdriver.remote.webelement.WebElement (session=\"6f82b23276a391c73f9420355c0b88a6\", element=\"59375088-e3ed-42a6-a82e-98e87da402b8\")>,\n",
       " <selenium.webdriver.remote.webelement.WebElement (session=\"6f82b23276a391c73f9420355c0b88a6\", element=\"89182098-5826-4d19-9444-fa63a69c0c64\")>,\n",
       " <selenium.webdriver.remote.webelement.WebElement (session=\"6f82b23276a391c73f9420355c0b88a6\", element=\"789a8252-f508-40f0-bb34-86f69dae4676\")>,\n",
       " <selenium.webdriver.remote.webelement.WebElement (session=\"6f82b23276a391c73f9420355c0b88a6\", element=\"ac48e365-f69c-4772-9159-74482d0b6ae1\")>,\n",
       " <selenium.webdriver.remote.webelement.WebElement (session=\"6f82b23276a391c73f9420355c0b88a6\", element=\"5d713554-52e8-493f-a567-b5fdd98a4ad1\")>,\n",
       " <selenium.webdriver.remote.webelement.WebElement (session=\"6f82b23276a391c73f9420355c0b88a6\", element=\"e5dff047-157f-48db-8971-e57a3593f64b\")>,\n",
       " <selenium.webdriver.remote.webelement.WebElement (session=\"6f82b23276a391c73f9420355c0b88a6\", element=\"df711a2d-27bd-4cb9-96e8-b5ad7c71ca6a\")>,\n",
       " <selenium.webdriver.remote.webelement.WebElement (session=\"6f82b23276a391c73f9420355c0b88a6\", element=\"40687157-57cd-45b6-a664-40a766db286f\")>]"
      ]
     },
     "execution_count": 53,
     "metadata": {},
     "output_type": "execute_result"
    }
   ],
   "source": [
    "# lets extract all web elements having experience\n",
    "exp_tags = driver.find_elements_by_xpath('//li[@class=\"fleft grey-text br2 placeHolderLi experience\"]')\n",
    "exp_tags[0:10]"
   ]
  },
  {
   "cell_type": "code",
   "execution_count": 54,
   "metadata": {},
   "outputs": [
    {
     "data": {
      "text/plain": [
       "['0-0 Yrs',\n",
       " '0-3 Yrs',\n",
       " '2-7 Yrs',\n",
       " '0-0 Yrs',\n",
       " '4-8 Yrs',\n",
       " '4-8 Yrs',\n",
       " '2-4 Yrs',\n",
       " '3-8 Yrs',\n",
       " '0-0 Yrs',\n",
       " '3-8 Yrs']"
      ]
     },
     "execution_count": 54,
     "metadata": {},
     "output_type": "execute_result"
    }
   ],
   "source": [
    "experience = []\n",
    "\n",
    "for i in exp_tags:\n",
    "    experience.append(i.text)\n",
    "experience[0:10]   "
   ]
  },
  {
   "cell_type": "markdown",
   "metadata": {},
   "source": [
    "# Extracting Company Location"
   ]
  },
  {
   "cell_type": "code",
   "execution_count": 55,
   "metadata": {},
   "outputs": [
    {
     "data": {
      "text/plain": [
       "[<selenium.webdriver.remote.webelement.WebElement (session=\"6f82b23276a391c73f9420355c0b88a6\", element=\"917a8dbd-2c80-4ddc-b6f7-02652fabd708\")>,\n",
       " <selenium.webdriver.remote.webelement.WebElement (session=\"6f82b23276a391c73f9420355c0b88a6\", element=\"2c045532-b0fe-47d8-9662-832ad8929c99\")>,\n",
       " <selenium.webdriver.remote.webelement.WebElement (session=\"6f82b23276a391c73f9420355c0b88a6\", element=\"377aee4f-09bb-4511-9568-dea565c942f6\")>,\n",
       " <selenium.webdriver.remote.webelement.WebElement (session=\"6f82b23276a391c73f9420355c0b88a6\", element=\"49b48d04-673e-4097-8c34-bb375eb40eca\")>,\n",
       " <selenium.webdriver.remote.webelement.WebElement (session=\"6f82b23276a391c73f9420355c0b88a6\", element=\"c6962155-6a48-4a40-b50f-c3e6bab2d07b\")>,\n",
       " <selenium.webdriver.remote.webelement.WebElement (session=\"6f82b23276a391c73f9420355c0b88a6\", element=\"3a017533-dd1a-4334-9fee-c4a1b5f63e08\")>,\n",
       " <selenium.webdriver.remote.webelement.WebElement (session=\"6f82b23276a391c73f9420355c0b88a6\", element=\"675354a3-3667-4f74-b539-a7da82e4e20e\")>,\n",
       " <selenium.webdriver.remote.webelement.WebElement (session=\"6f82b23276a391c73f9420355c0b88a6\", element=\"6739f85d-aa5d-44d2-8a23-7cd8095134bd\")>,\n",
       " <selenium.webdriver.remote.webelement.WebElement (session=\"6f82b23276a391c73f9420355c0b88a6\", element=\"bb4c6bda-623f-44de-a07f-6d9d6b89c4b7\")>,\n",
       " <selenium.webdriver.remote.webelement.WebElement (session=\"6f82b23276a391c73f9420355c0b88a6\", element=\"b9ab7473-24f5-4df2-aa98-872adb11d17e\")>]"
      ]
     },
     "execution_count": 55,
     "metadata": {},
     "output_type": "execute_result"
    }
   ],
   "source": [
    "# lets extract all web elements having location\n",
    "locn_tags = driver.find_elements_by_xpath('//li[@class=\"fleft grey-text br2 placeHolderLi location\"]')\n",
    "locn_tags[0:10]"
   ]
  },
  {
   "cell_type": "code",
   "execution_count": 56,
   "metadata": {},
   "outputs": [
    {
     "data": {
      "text/plain": [
       "['Noida, Kolkata, Hyderabad/Secunderabad, Pune, Chennai, Bangalore/Bengaluru, Delhi / NCR, Mumbai (All Areas)\\n(WFH during Covid)',\n",
       " 'Kolkata, Hyderabad/Secunderabad, Pune, Ahmedabad, Chennai, Bangalore/Bengaluru, Delhi / NCR, Mumbai (All Areas)\\n(WFH during Covid)',\n",
       " 'Noida, Pune, Mumbai (All Areas)',\n",
       " 'Noida, New Delhi, Gurgaon/Gurugram',\n",
       " 'Noida',\n",
       " 'Noida',\n",
       " 'Delhi / NCR\\n(WFH during Covid)',\n",
       " 'Noida, Delhi / NCR',\n",
       " 'Noida, New Delhi, Delhi / NCR',\n",
       " 'Hyderabad/Secunderabad, Pune, Chennai, Bangalore/Bengaluru, Delhi / NCR, Mumbai (All Areas)']"
      ]
     },
     "execution_count": 56,
     "metadata": {},
     "output_type": "execute_result"
    }
   ],
   "source": [
    "location = []\n",
    "\n",
    "for i in locn_tags:\n",
    "    location.append(i.text)\n",
    "location[0:10]  "
   ]
  },
  {
   "cell_type": "code",
   "execution_count": 57,
   "metadata": {},
   "outputs": [
    {
     "data": {
      "text/plain": [
       "(20, 20, 20, 20)"
      ]
     },
     "execution_count": 57,
     "metadata": {},
     "output_type": "execute_result"
    }
   ],
   "source": [
    "len(job_titles),len(company_names),len(experience),len(location)"
   ]
  },
  {
   "cell_type": "code",
   "execution_count": 58,
   "metadata": {},
   "outputs": [
    {
     "data": {
      "text/html": [
       "<div>\n",
       "<style scoped>\n",
       "    .dataframe tbody tr th:only-of-type {\n",
       "        vertical-align: middle;\n",
       "    }\n",
       "\n",
       "    .dataframe tbody tr th {\n",
       "        vertical-align: top;\n",
       "    }\n",
       "\n",
       "    .dataframe thead th {\n",
       "        text-align: right;\n",
       "    }\n",
       "</style>\n",
       "<table border=\"1\" class=\"dataframe\">\n",
       "  <thead>\n",
       "    <tr style=\"text-align: right;\">\n",
       "      <th></th>\n",
       "      <th>Job Title</th>\n",
       "      <th>Company Names</th>\n",
       "      <th>Experience</th>\n",
       "      <th>Location</th>\n",
       "    </tr>\n",
       "  </thead>\n",
       "  <tbody>\n",
       "    <tr>\n",
       "      <th>0</th>\n",
       "      <td>Excellent Opportunity For Freshers For AI/ML, ...</td>\n",
       "      <td>NTT Data</td>\n",
       "      <td>0-0 Yrs</td>\n",
       "      <td>Noida, Kolkata, Hyderabad/Secunderabad, Pune, ...</td>\n",
       "    </tr>\n",
       "    <tr>\n",
       "      <th>1</th>\n",
       "      <td>Junior Data Analyst/ Scientist- Fresher Position</td>\n",
       "      <td>Sejal Consulting Hub</td>\n",
       "      <td>0-3 Yrs</td>\n",
       "      <td>Kolkata, Hyderabad/Secunderabad, Pune, Ahmedab...</td>\n",
       "    </tr>\n",
       "    <tr>\n",
       "      <th>2</th>\n",
       "      <td>Hiring For Data Scientist</td>\n",
       "      <td>Lumiq.ai</td>\n",
       "      <td>2-7 Yrs</td>\n",
       "      <td>Noida, Pune, Mumbai (All Areas)</td>\n",
       "    </tr>\n",
       "    <tr>\n",
       "      <th>3</th>\n",
       "      <td>Only Fresher / Python Data Scientist / Trainee...</td>\n",
       "      <td>GABA Consultancy services</td>\n",
       "      <td>0-0 Yrs</td>\n",
       "      <td>Noida, New Delhi, Gurgaon/Gurugram</td>\n",
       "    </tr>\n",
       "    <tr>\n",
       "      <th>4</th>\n",
       "      <td>Data Scientist - MIND Infotech</td>\n",
       "      <td>MOTHERSONSUMI INFOTECH &amp; DESIGNS LIMITED</td>\n",
       "      <td>4-8 Yrs</td>\n",
       "      <td>Noida</td>\n",
       "    </tr>\n",
       "    <tr>\n",
       "      <th>5</th>\n",
       "      <td>Data Scientist - MIND Infotech</td>\n",
       "      <td>MOTHERSONSUMI INFOTECH &amp; DESIGNS LIMITED</td>\n",
       "      <td>4-8 Yrs</td>\n",
       "      <td>Noida</td>\n",
       "    </tr>\n",
       "    <tr>\n",
       "      <th>6</th>\n",
       "      <td>Lead Data Scientist</td>\n",
       "      <td>Indihire HR Consultants Private Limited</td>\n",
       "      <td>2-4 Yrs</td>\n",
       "      <td>Delhi / NCR\\n(WFH during Covid)</td>\n",
       "    </tr>\n",
       "    <tr>\n",
       "      <th>7</th>\n",
       "      <td>Urgent Requirement || Data Scientist || Noida</td>\n",
       "      <td>HCL</td>\n",
       "      <td>3-8 Yrs</td>\n",
       "      <td>Noida, Delhi / NCR</td>\n",
       "    </tr>\n",
       "    <tr>\n",
       "      <th>8</th>\n",
       "      <td>Data Analyst / Data Scientist / Business Analy...</td>\n",
       "      <td>GABA Consultancy services</td>\n",
       "      <td>0-0 Yrs</td>\n",
       "      <td>Noida, New Delhi, Delhi / NCR</td>\n",
       "    </tr>\n",
       "    <tr>\n",
       "      <th>9</th>\n",
       "      <td>Data Scientist-Onsite and offshore</td>\n",
       "      <td>PROKXIMITY</td>\n",
       "      <td>3-8 Yrs</td>\n",
       "      <td>Hyderabad/Secunderabad, Pune, Chennai, Bangalo...</td>\n",
       "    </tr>\n",
       "  </tbody>\n",
       "</table>\n",
       "</div>"
      ],
      "text/plain": [
       "                                           Job Title  \\\n",
       "0  Excellent Opportunity For Freshers For AI/ML, ...   \n",
       "1   Junior Data Analyst/ Scientist- Fresher Position   \n",
       "2                          Hiring For Data Scientist   \n",
       "3  Only Fresher / Python Data Scientist / Trainee...   \n",
       "4                     Data Scientist - MIND Infotech   \n",
       "5                     Data Scientist - MIND Infotech   \n",
       "6                                Lead Data Scientist   \n",
       "7      Urgent Requirement || Data Scientist || Noida   \n",
       "8  Data Analyst / Data Scientist / Business Analy...   \n",
       "9                 Data Scientist-Onsite and offshore   \n",
       "\n",
       "                              Company Names Experience  \\\n",
       "0                                  NTT Data    0-0 Yrs   \n",
       "1                      Sejal Consulting Hub    0-3 Yrs   \n",
       "2                                  Lumiq.ai    2-7 Yrs   \n",
       "3                 GABA Consultancy services    0-0 Yrs   \n",
       "4  MOTHERSONSUMI INFOTECH & DESIGNS LIMITED    4-8 Yrs   \n",
       "5  MOTHERSONSUMI INFOTECH & DESIGNS LIMITED    4-8 Yrs   \n",
       "6   Indihire HR Consultants Private Limited    2-4 Yrs   \n",
       "7                                       HCL    3-8 Yrs   \n",
       "8                 GABA Consultancy services    0-0 Yrs   \n",
       "9                                PROKXIMITY    3-8 Yrs   \n",
       "\n",
       "                                            Location  \n",
       "0  Noida, Kolkata, Hyderabad/Secunderabad, Pune, ...  \n",
       "1  Kolkata, Hyderabad/Secunderabad, Pune, Ahmedab...  \n",
       "2                    Noida, Pune, Mumbai (All Areas)  \n",
       "3                 Noida, New Delhi, Gurgaon/Gurugram  \n",
       "4                                              Noida  \n",
       "5                                              Noida  \n",
       "6                    Delhi / NCR\\n(WFH during Covid)  \n",
       "7                                 Noida, Delhi / NCR  \n",
       "8                      Noida, New Delhi, Delhi / NCR  \n",
       "9  Hyderabad/Secunderabad, Pune, Chennai, Bangalo...  "
      ]
     },
     "execution_count": 58,
     "metadata": {},
     "output_type": "execute_result"
    }
   ],
   "source": [
    "jobs=pd.DataFrame()\n",
    "jobs['Job Title']= job_titles\n",
    "jobs['Company Names']= company_names\n",
    "jobs['Experience']= experience\n",
    "jobs['Location']= location\n",
    "jobs[0:10]"
   ]
  },
  {
   "cell_type": "raw",
   "metadata": {},
   "source": [
    "Q4: Scrape data of first 100 sunglasses listings on flipkart.com. You have to scrape four attributes:\n",
    "1. Brand\n",
    "2. Product Description\n",
    "3. Price\n",
    "The attributes which you have to scrape is ticked marked in the below image.\n",
    "To scrape the data you have to go through following steps:\n",
    "1. Go to Flipkart webpage by url : https://www.flipkart.com/\n",
    "2. Enter “sunglasses” in the search field where “search for products, brands andmore” is written and\n",
    "click the search icon\n",
    "3. After that you will reach to the page having a lot of sunglasses. From this pageyou can scrap the\n",
    "required data as usual.\n",
    "4. After scraping data from the first page, go to the “Next” Button at the bottom ofthe page , then\n",
    "click on it.\n",
    "5. Now scrape data from this page as usual\n",
    "6. Repeat this until you get data for 100 sunglasses"
   ]
  },
  {
   "cell_type": "code",
   "execution_count": 5,
   "metadata": {},
   "outputs": [],
   "source": [
    "# let's import all required libraries\n",
    "import selenium\n",
    "from selenium import webdriver\n",
    "import pandas as pd\n",
    "import warnings\n",
    "warnings.filterwarnings('ignore')"
   ]
  },
  {
   "cell_type": "code",
   "execution_count": 6,
   "metadata": {},
   "outputs": [],
   "source": [
    "#Lets's connect to web driver\n",
    "driver = webdriver.Chrome('chromedriver.exe')"
   ]
  },
  {
   "cell_type": "code",
   "execution_count": 7,
   "metadata": {},
   "outputs": [],
   "source": [
    "url = 'https://www.flipkart.com/'\n",
    "driver.get(url)"
   ]
  },
  {
   "cell_type": "code",
   "execution_count": 8,
   "metadata": {},
   "outputs": [
    {
     "data": {
      "text/plain": [
       "<selenium.webdriver.remote.webelement.WebElement (session=\"32a8e8ca3bc7362f7963c40d79fdb6e6\", element=\"d109dc6e-49e7-4324-a71e-cf87ae0e4e51\")>"
      ]
     },
     "execution_count": 8,
     "metadata": {},
     "output_type": "execute_result"
    }
   ],
   "source": [
    "search_sunglass = driver.find_element_by_xpath('/html/body/div[1]/div/div[1]/div[1]/div[2]/div[2]/form/div/div/input')\n",
    "search_sunglass"
   ]
  },
  {
   "cell_type": "code",
   "execution_count": 9,
   "metadata": {},
   "outputs": [],
   "source": [
    "#write on search bar\n",
    "search_sunglass.send_keys(\"Sunglasses\")"
   ]
  },
  {
   "cell_type": "code",
   "execution_count": 10,
   "metadata": {},
   "outputs": [
    {
     "data": {
      "text/plain": [
       "<selenium.webdriver.remote.webelement.WebElement (session=\"32a8e8ca3bc7362f7963c40d79fdb6e6\", element=\"5d35c626-c417-4417-a7c5-c678dfbaf956\")>"
      ]
     },
     "execution_count": 10,
     "metadata": {},
     "output_type": "execute_result"
    }
   ],
   "source": [
    "search_btn = driver.find_element_by_xpath('/html/body/div[1]/div/div[1]/div[1]/div[2]/div[2]/form/div/button')\n",
    "search_btn"
   ]
  },
  {
   "cell_type": "code",
   "execution_count": 11,
   "metadata": {},
   "outputs": [],
   "source": [
    "search_btn.click()"
   ]
  },
  {
   "cell_type": "markdown",
   "metadata": {},
   "source": [
    "# Extracting Brand Names"
   ]
  },
  {
   "cell_type": "code",
   "execution_count": 18,
   "metadata": {},
   "outputs": [
    {
     "data": {
      "text/plain": [
       "[<selenium.webdriver.remote.webelement.WebElement (session=\"32a8e8ca3bc7362f7963c40d79fdb6e6\", element=\"f5041785-2b8d-485f-bbf9-c348bc800e7a\")>,\n",
       " <selenium.webdriver.remote.webelement.WebElement (session=\"32a8e8ca3bc7362f7963c40d79fdb6e6\", element=\"20b91b56-96cb-4425-acdc-b26a8d3bbfea\")>,\n",
       " <selenium.webdriver.remote.webelement.WebElement (session=\"32a8e8ca3bc7362f7963c40d79fdb6e6\", element=\"46678c58-0bf5-41ec-ac3f-7717e53146d6\")>,\n",
       " <selenium.webdriver.remote.webelement.WebElement (session=\"32a8e8ca3bc7362f7963c40d79fdb6e6\", element=\"350526d9-ebdf-4703-bb54-11c2aa3f4642\")>,\n",
       " <selenium.webdriver.remote.webelement.WebElement (session=\"32a8e8ca3bc7362f7963c40d79fdb6e6\", element=\"469cabc0-874d-4e7a-8446-15786977362d\")>,\n",
       " <selenium.webdriver.remote.webelement.WebElement (session=\"32a8e8ca3bc7362f7963c40d79fdb6e6\", element=\"de14ebea-e35a-4e7f-b8e0-7e769fce91b3\")>,\n",
       " <selenium.webdriver.remote.webelement.WebElement (session=\"32a8e8ca3bc7362f7963c40d79fdb6e6\", element=\"93aa7e54-e440-4110-ba29-d148a020e2a5\")>,\n",
       " <selenium.webdriver.remote.webelement.WebElement (session=\"32a8e8ca3bc7362f7963c40d79fdb6e6\", element=\"84038c15-786e-4737-ae8c-d834441668ff\")>,\n",
       " <selenium.webdriver.remote.webelement.WebElement (session=\"32a8e8ca3bc7362f7963c40d79fdb6e6\", element=\"c4207ad5-b88e-42f9-890d-4151443eb451\")>,\n",
       " <selenium.webdriver.remote.webelement.WebElement (session=\"32a8e8ca3bc7362f7963c40d79fdb6e6\", element=\"0b942962-73b2-4e9d-a873-2f623e280fc3\")>]"
      ]
     },
     "execution_count": 18,
     "metadata": {},
     "output_type": "execute_result"
    }
   ],
   "source": [
    "# lets extract all web elements having company names\n",
    "brand_tags = driver.find_elements_by_xpath('//div[@class=\"_2WkVRV\"]')\n",
    "brand_tags[0:10]"
   ]
  },
  {
   "cell_type": "code",
   "execution_count": 19,
   "metadata": {},
   "outputs": [
    {
     "data": {
      "text/plain": [
       "['VINCENT CHASE',\n",
       " 'VINCENT CHASE',\n",
       " 'SRPM',\n",
       " 'SUNBEE',\n",
       " 'PIRASO',\n",
       " 'Elligator',\n",
       " 'PIRASO',\n",
       " 'ROYAL SON',\n",
       " 'DEIXELS',\n",
       " 'New Specs']"
      ]
     },
     "execution_count": 19,
     "metadata": {},
     "output_type": "execute_result"
    }
   ],
   "source": [
    "brand_names = []\n",
    "\n",
    "for i in brand_tags:\n",
    "    brand_names.append(i.text)\n",
    "brand_names[0:10]   "
   ]
  },
  {
   "cell_type": "markdown",
   "metadata": {},
   "source": [
    "# Extracting Product Description"
   ]
  },
  {
   "cell_type": "code",
   "execution_count": 16,
   "metadata": {},
   "outputs": [
    {
     "data": {
      "text/plain": [
       "[<selenium.webdriver.remote.webelement.WebElement (session=\"32a8e8ca3bc7362f7963c40d79fdb6e6\", element=\"1040f034-8634-42c1-8f2f-eda6d77ac110\")>,\n",
       " <selenium.webdriver.remote.webelement.WebElement (session=\"32a8e8ca3bc7362f7963c40d79fdb6e6\", element=\"8e4ddb28-446c-4a1b-ac0d-2028cb211183\")>,\n",
       " <selenium.webdriver.remote.webelement.WebElement (session=\"32a8e8ca3bc7362f7963c40d79fdb6e6\", element=\"6830f6d3-991b-41f0-a1a0-5716761a28a3\")>,\n",
       " <selenium.webdriver.remote.webelement.WebElement (session=\"32a8e8ca3bc7362f7963c40d79fdb6e6\", element=\"f66d9e10-b783-4eda-bf24-0ec4a2a0e9ab\")>,\n",
       " <selenium.webdriver.remote.webelement.WebElement (session=\"32a8e8ca3bc7362f7963c40d79fdb6e6\", element=\"c6fc0c1e-14b5-4a80-ba61-f9a7f021f52c\")>,\n",
       " <selenium.webdriver.remote.webelement.WebElement (session=\"32a8e8ca3bc7362f7963c40d79fdb6e6\", element=\"481f839d-2448-4a83-b95b-aa4ca4dd75fc\")>,\n",
       " <selenium.webdriver.remote.webelement.WebElement (session=\"32a8e8ca3bc7362f7963c40d79fdb6e6\", element=\"71cf2399-41f5-4584-b799-6697c3113818\")>,\n",
       " <selenium.webdriver.remote.webelement.WebElement (session=\"32a8e8ca3bc7362f7963c40d79fdb6e6\", element=\"6146b7b1-01a6-4cce-8fa7-b74ed512ced9\")>,\n",
       " <selenium.webdriver.remote.webelement.WebElement (session=\"32a8e8ca3bc7362f7963c40d79fdb6e6\", element=\"f2f97e90-6937-45cc-aaf7-6d001743ebc0\")>,\n",
       " <selenium.webdriver.remote.webelement.WebElement (session=\"32a8e8ca3bc7362f7963c40d79fdb6e6\", element=\"1ec1be48-60b1-41c5-ad02-d063adbd4b88\")>]"
      ]
     },
     "execution_count": 16,
     "metadata": {},
     "output_type": "execute_result"
    }
   ],
   "source": [
    "# lets extract all web elements having product description\n",
    "product_tags = driver.find_elements_by_xpath('//a[@class=\"IRpwTa\"]')\n",
    "product_tags[0:10]"
   ]
  },
  {
   "cell_type": "code",
   "execution_count": 17,
   "metadata": {},
   "outputs": [
    {
     "data": {
      "text/plain": [
       "['by Lenskart Polarized, UV Protection Wayfarer Sunglasse...',\n",
       " 'by Lenskart Polarized, UV Protection Round Sunglasses (...',\n",
       " 'UV Protection Wayfarer Sunglasses (50)',\n",
       " 'UV Protection, Polarized Wayfarer Sunglasses (Free Size...',\n",
       " 'UV Protection Aviator Sunglasses (54)',\n",
       " 'UV Protection Round Sunglasses (54)',\n",
       " 'UV Protection Aviator Sunglasses (54)',\n",
       " 'Polarized, UV Protection Round Sunglasses (52)',\n",
       " 'UV Protection Aviator, Wayfarer Sunglasses (Free Size)',\n",
       " 'UV Protection Rectangular Sunglasses (Free Size)']"
      ]
     },
     "execution_count": 17,
     "metadata": {},
     "output_type": "execute_result"
    }
   ],
   "source": [
    "product_des = []\n",
    "\n",
    "for i in product_tags:\n",
    "    product_des.append(i.text)\n",
    "product_des[0:10] "
   ]
  },
  {
   "cell_type": "markdown",
   "metadata": {},
   "source": [
    "# Extracting Price"
   ]
  },
  {
   "cell_type": "code",
   "execution_count": 20,
   "metadata": {},
   "outputs": [
    {
     "data": {
      "text/plain": [
       "[<selenium.webdriver.remote.webelement.WebElement (session=\"32a8e8ca3bc7362f7963c40d79fdb6e6\", element=\"937e8d7a-d8b3-4e79-ba22-07e7836be7f8\")>,\n",
       " <selenium.webdriver.remote.webelement.WebElement (session=\"32a8e8ca3bc7362f7963c40d79fdb6e6\", element=\"43446ae0-9cb7-44a8-802a-cdc8828890c9\")>,\n",
       " <selenium.webdriver.remote.webelement.WebElement (session=\"32a8e8ca3bc7362f7963c40d79fdb6e6\", element=\"ccdd35ce-e280-46e0-8fa6-4469cd3cdaf3\")>,\n",
       " <selenium.webdriver.remote.webelement.WebElement (session=\"32a8e8ca3bc7362f7963c40d79fdb6e6\", element=\"d4876969-60fe-4b2b-b420-92373ec2dfb2\")>,\n",
       " <selenium.webdriver.remote.webelement.WebElement (session=\"32a8e8ca3bc7362f7963c40d79fdb6e6\", element=\"5bc69632-840c-47a6-be37-eb541b0c7b3a\")>,\n",
       " <selenium.webdriver.remote.webelement.WebElement (session=\"32a8e8ca3bc7362f7963c40d79fdb6e6\", element=\"7696f151-194c-4fa1-a987-ba854d658c07\")>,\n",
       " <selenium.webdriver.remote.webelement.WebElement (session=\"32a8e8ca3bc7362f7963c40d79fdb6e6\", element=\"61acb878-fd18-490c-83d4-a81b9891c095\")>,\n",
       " <selenium.webdriver.remote.webelement.WebElement (session=\"32a8e8ca3bc7362f7963c40d79fdb6e6\", element=\"b84593b3-bb1b-4e4a-a02c-2b453c555903\")>,\n",
       " <selenium.webdriver.remote.webelement.WebElement (session=\"32a8e8ca3bc7362f7963c40d79fdb6e6\", element=\"a952a432-76f7-4f0f-9a0f-c71563e0575f\")>,\n",
       " <selenium.webdriver.remote.webelement.WebElement (session=\"32a8e8ca3bc7362f7963c40d79fdb6e6\", element=\"6287663a-0682-4cf2-9046-cdcb795b3107\")>]"
      ]
     },
     "execution_count": 20,
     "metadata": {},
     "output_type": "execute_result"
    }
   ],
   "source": [
    "# lets extract all web elements having product price\n",
    "price_tags = driver.find_elements_by_xpath('//div[@class=\"_30jeq3\"]')\n",
    "price_tags[0:10]"
   ]
  },
  {
   "cell_type": "code",
   "execution_count": 21,
   "metadata": {},
   "outputs": [
    {
     "data": {
      "text/plain": [
       "['₹749',\n",
       " '₹949',\n",
       " '₹148',\n",
       " '₹203',\n",
       " '₹179',\n",
       " '₹208',\n",
       " '₹175',\n",
       " '₹709',\n",
       " '₹152',\n",
       " '₹182']"
      ]
     },
     "execution_count": 21,
     "metadata": {},
     "output_type": "execute_result"
    }
   ],
   "source": [
    "price = []\n",
    "\n",
    "for i in price_tags:\n",
    "    price.append(i.text)\n",
    "price[0:10] "
   ]
  },
  {
   "cell_type": "markdown",
   "metadata": {},
   "source": [
    "# Extracting Discount"
   ]
  },
  {
   "cell_type": "code",
   "execution_count": 23,
   "metadata": {},
   "outputs": [
    {
     "data": {
      "text/plain": [
       "[<selenium.webdriver.remote.webelement.WebElement (session=\"32a8e8ca3bc7362f7963c40d79fdb6e6\", element=\"278ac2d8-792d-4821-ab7f-bf52b7c4d9b0\")>,\n",
       " <selenium.webdriver.remote.webelement.WebElement (session=\"32a8e8ca3bc7362f7963c40d79fdb6e6\", element=\"e470107e-7650-4c8a-bb8d-2ee32658c2a3\")>,\n",
       " <selenium.webdriver.remote.webelement.WebElement (session=\"32a8e8ca3bc7362f7963c40d79fdb6e6\", element=\"f32872df-9fb9-47ee-b3de-6517c67713a6\")>,\n",
       " <selenium.webdriver.remote.webelement.WebElement (session=\"32a8e8ca3bc7362f7963c40d79fdb6e6\", element=\"6c3c5aa3-93af-49e2-8de0-c5a3147a5703\")>,\n",
       " <selenium.webdriver.remote.webelement.WebElement (session=\"32a8e8ca3bc7362f7963c40d79fdb6e6\", element=\"8373deaa-402d-40c9-88f1-92508ae9fd58\")>,\n",
       " <selenium.webdriver.remote.webelement.WebElement (session=\"32a8e8ca3bc7362f7963c40d79fdb6e6\", element=\"485a500e-5905-43f2-bee9-9fc4741c2edc\")>,\n",
       " <selenium.webdriver.remote.webelement.WebElement (session=\"32a8e8ca3bc7362f7963c40d79fdb6e6\", element=\"3ef2094d-b72d-4d0e-93cb-4bcacfbdc4d7\")>,\n",
       " <selenium.webdriver.remote.webelement.WebElement (session=\"32a8e8ca3bc7362f7963c40d79fdb6e6\", element=\"670eea6d-873d-49ec-9298-c382832153bc\")>,\n",
       " <selenium.webdriver.remote.webelement.WebElement (session=\"32a8e8ca3bc7362f7963c40d79fdb6e6\", element=\"f8838b28-f99f-4382-8cab-029bf47ecb4f\")>,\n",
       " <selenium.webdriver.remote.webelement.WebElement (session=\"32a8e8ca3bc7362f7963c40d79fdb6e6\", element=\"a4d37c78-5dcc-4236-a1e9-813d27343568\")>]"
      ]
     },
     "execution_count": 23,
     "metadata": {},
     "output_type": "execute_result"
    }
   ],
   "source": [
    "# lets extract all web elements having product discount\n",
    "discount_tags = driver.find_elements_by_xpath('//div[@class=\"_3Ay6Sb\"]')\n",
    "discount_tags[0:10]"
   ]
  },
  {
   "cell_type": "code",
   "execution_count": 24,
   "metadata": {},
   "outputs": [
    {
     "data": {
      "text/plain": [
       "['70% off',\n",
       " '52% off',\n",
       " '88% off',\n",
       " '84% off',\n",
       " '88% off',\n",
       " '91% off',\n",
       " '89% off',\n",
       " '64% off',\n",
       " '87% off',\n",
       " '92% off']"
      ]
     },
     "execution_count": 24,
     "metadata": {},
     "output_type": "execute_result"
    }
   ],
   "source": [
    "discount = []\n",
    "\n",
    "for i in discount_tags:\n",
    "    discount.append(i.text)\n",
    "discount[0:10] "
   ]
  },
  {
   "cell_type": "code",
   "execution_count": 25,
   "metadata": {},
   "outputs": [
    {
     "data": {
      "text/plain": [
       "(40, 40, 39, 40)"
      ]
     },
     "execution_count": 25,
     "metadata": {},
     "output_type": "execute_result"
    }
   ],
   "source": [
    "len(brand_names),len(price),len(product_des),len(discount)"
   ]
  },
  {
   "cell_type": "code",
   "execution_count": 26,
   "metadata": {},
   "outputs": [
    {
     "data": {
      "text/html": [
       "<div>\n",
       "<style scoped>\n",
       "    .dataframe tbody tr th:only-of-type {\n",
       "        vertical-align: middle;\n",
       "    }\n",
       "\n",
       "    .dataframe tbody tr th {\n",
       "        vertical-align: top;\n",
       "    }\n",
       "\n",
       "    .dataframe thead th {\n",
       "        text-align: right;\n",
       "    }\n",
       "</style>\n",
       "<table border=\"1\" class=\"dataframe\">\n",
       "  <thead>\n",
       "    <tr style=\"text-align: right;\">\n",
       "      <th></th>\n",
       "      <th>Brand Name</th>\n",
       "      <th>Product Description</th>\n",
       "      <th>Price</th>\n",
       "      <th>Discount</th>\n",
       "    </tr>\n",
       "  </thead>\n",
       "  <tbody>\n",
       "    <tr>\n",
       "      <th>0</th>\n",
       "      <td>VINCENT CHASE</td>\n",
       "      <td>by Lenskart Polarized, UV Protection Wayfarer ...</td>\n",
       "      <td>₹749</td>\n",
       "      <td>70% off</td>\n",
       "    </tr>\n",
       "    <tr>\n",
       "      <th>1</th>\n",
       "      <td>VINCENT CHASE</td>\n",
       "      <td>by Lenskart Polarized, UV Protection Round Sun...</td>\n",
       "      <td>₹949</td>\n",
       "      <td>52% off</td>\n",
       "    </tr>\n",
       "    <tr>\n",
       "      <th>2</th>\n",
       "      <td>SRPM</td>\n",
       "      <td>UV Protection Wayfarer Sunglasses (50)</td>\n",
       "      <td>₹148</td>\n",
       "      <td>88% off</td>\n",
       "    </tr>\n",
       "    <tr>\n",
       "      <th>3</th>\n",
       "      <td>SUNBEE</td>\n",
       "      <td>UV Protection, Polarized Wayfarer Sunglasses (...</td>\n",
       "      <td>₹203</td>\n",
       "      <td>84% off</td>\n",
       "    </tr>\n",
       "    <tr>\n",
       "      <th>4</th>\n",
       "      <td>PIRASO</td>\n",
       "      <td>UV Protection Aviator Sunglasses (54)</td>\n",
       "      <td>₹179</td>\n",
       "      <td>88% off</td>\n",
       "    </tr>\n",
       "    <tr>\n",
       "      <th>5</th>\n",
       "      <td>Elligator</td>\n",
       "      <td>UV Protection Round Sunglasses (54)</td>\n",
       "      <td>₹208</td>\n",
       "      <td>91% off</td>\n",
       "    </tr>\n",
       "    <tr>\n",
       "      <th>6</th>\n",
       "      <td>PIRASO</td>\n",
       "      <td>UV Protection Aviator Sunglasses (54)</td>\n",
       "      <td>₹175</td>\n",
       "      <td>89% off</td>\n",
       "    </tr>\n",
       "    <tr>\n",
       "      <th>7</th>\n",
       "      <td>ROYAL SON</td>\n",
       "      <td>Polarized, UV Protection Round Sunglasses (52)</td>\n",
       "      <td>₹709</td>\n",
       "      <td>64% off</td>\n",
       "    </tr>\n",
       "    <tr>\n",
       "      <th>8</th>\n",
       "      <td>DEIXELS</td>\n",
       "      <td>UV Protection Aviator, Wayfarer Sunglasses (Fr...</td>\n",
       "      <td>₹152</td>\n",
       "      <td>87% off</td>\n",
       "    </tr>\n",
       "    <tr>\n",
       "      <th>9</th>\n",
       "      <td>New Specs</td>\n",
       "      <td>UV Protection Rectangular Sunglasses (Free Size)</td>\n",
       "      <td>₹182</td>\n",
       "      <td>92% off</td>\n",
       "    </tr>\n",
       "    <tr>\n",
       "      <th>10</th>\n",
       "      <td>SHAAH COLLECTIONS</td>\n",
       "      <td>UV Protection, Polarized, Mirrored Rectangular...</td>\n",
       "      <td>₹115</td>\n",
       "      <td>93% off</td>\n",
       "    </tr>\n",
       "    <tr>\n",
       "      <th>11</th>\n",
       "      <td>ROYAL SON</td>\n",
       "      <td>UV Protection, Gradient Butterfly, Over-sized ...</td>\n",
       "      <td>₹614</td>\n",
       "      <td>69% off</td>\n",
       "    </tr>\n",
       "    <tr>\n",
       "      <th>12</th>\n",
       "      <td>Fastrack</td>\n",
       "      <td>UV Protection Rectangular Sunglasses (Free Size)</td>\n",
       "      <td>₹629</td>\n",
       "      <td>21% off</td>\n",
       "    </tr>\n",
       "    <tr>\n",
       "      <th>13</th>\n",
       "      <td>GANSTA</td>\n",
       "      <td>UV Protection, Riding Glasses Wayfarer Sunglas...</td>\n",
       "      <td>₹148</td>\n",
       "      <td>91% off</td>\n",
       "    </tr>\n",
       "    <tr>\n",
       "      <th>14</th>\n",
       "      <td>PIRASO</td>\n",
       "      <td>UV Protection Aviator Sunglasses (54)</td>\n",
       "      <td>₹175</td>\n",
       "      <td>89% off</td>\n",
       "    </tr>\n",
       "    <tr>\n",
       "      <th>15</th>\n",
       "      <td>ROYAL SON</td>\n",
       "      <td>UV Protection, Gradient Over-sized Sunglasses ...</td>\n",
       "      <td>₹614</td>\n",
       "      <td>69% off</td>\n",
       "    </tr>\n",
       "    <tr>\n",
       "      <th>16</th>\n",
       "      <td>Fastrack</td>\n",
       "      <td>Gradient, UV Protection Wayfarer Sunglasses (F...</td>\n",
       "      <td>₹629</td>\n",
       "      <td>30% off</td>\n",
       "    </tr>\n",
       "    <tr>\n",
       "      <th>17</th>\n",
       "      <td>Lee Topper</td>\n",
       "      <td>Riding Glasses Wrap-around Sunglasses (Free Size)</td>\n",
       "      <td>₹225</td>\n",
       "      <td>90% off</td>\n",
       "    </tr>\n",
       "    <tr>\n",
       "      <th>18</th>\n",
       "      <td>Lee Topper</td>\n",
       "      <td>UV Protection Rectangular Sunglasses (Free Size)</td>\n",
       "      <td>₹149</td>\n",
       "      <td>85% off</td>\n",
       "    </tr>\n",
       "    <tr>\n",
       "      <th>19</th>\n",
       "      <td>NuVew</td>\n",
       "      <td>UV Protection, Mirrored Wayfarer, Retro Square...</td>\n",
       "      <td>₹246</td>\n",
       "      <td>79% off</td>\n",
       "    </tr>\n",
       "  </tbody>\n",
       "</table>\n",
       "</div>"
      ],
      "text/plain": [
       "           Brand Name                                Product Description  \\\n",
       "0       VINCENT CHASE  by Lenskart Polarized, UV Protection Wayfarer ...   \n",
       "1       VINCENT CHASE  by Lenskart Polarized, UV Protection Round Sun...   \n",
       "2                SRPM             UV Protection Wayfarer Sunglasses (50)   \n",
       "3              SUNBEE  UV Protection, Polarized Wayfarer Sunglasses (...   \n",
       "4              PIRASO              UV Protection Aviator Sunglasses (54)   \n",
       "5           Elligator                UV Protection Round Sunglasses (54)   \n",
       "6              PIRASO              UV Protection Aviator Sunglasses (54)   \n",
       "7           ROYAL SON     Polarized, UV Protection Round Sunglasses (52)   \n",
       "8             DEIXELS  UV Protection Aviator, Wayfarer Sunglasses (Fr...   \n",
       "9           New Specs   UV Protection Rectangular Sunglasses (Free Size)   \n",
       "10  SHAAH COLLECTIONS  UV Protection, Polarized, Mirrored Rectangular...   \n",
       "11          ROYAL SON  UV Protection, Gradient Butterfly, Over-sized ...   \n",
       "12           Fastrack   UV Protection Rectangular Sunglasses (Free Size)   \n",
       "13             GANSTA  UV Protection, Riding Glasses Wayfarer Sunglas...   \n",
       "14             PIRASO              UV Protection Aviator Sunglasses (54)   \n",
       "15          ROYAL SON  UV Protection, Gradient Over-sized Sunglasses ...   \n",
       "16           Fastrack  Gradient, UV Protection Wayfarer Sunglasses (F...   \n",
       "17         Lee Topper  Riding Glasses Wrap-around Sunglasses (Free Size)   \n",
       "18         Lee Topper   UV Protection Rectangular Sunglasses (Free Size)   \n",
       "19              NuVew  UV Protection, Mirrored Wayfarer, Retro Square...   \n",
       "\n",
       "   Price Discount  \n",
       "0   ₹749  70% off  \n",
       "1   ₹949  52% off  \n",
       "2   ₹148  88% off  \n",
       "3   ₹203  84% off  \n",
       "4   ₹179  88% off  \n",
       "5   ₹208  91% off  \n",
       "6   ₹175  89% off  \n",
       "7   ₹709  64% off  \n",
       "8   ₹152  87% off  \n",
       "9   ₹182  92% off  \n",
       "10  ₹115  93% off  \n",
       "11  ₹614  69% off  \n",
       "12  ₹629  21% off  \n",
       "13  ₹148  91% off  \n",
       "14  ₹175  89% off  \n",
       "15  ₹614  69% off  \n",
       "16  ₹629  30% off  \n",
       "17  ₹225  90% off  \n",
       "18  ₹149  85% off  \n",
       "19  ₹246  79% off  "
      ]
     },
     "execution_count": 26,
     "metadata": {},
     "output_type": "execute_result"
    }
   ],
   "source": [
    "flipkart=pd.DataFrame()\n",
    "flipkart['Brand Name']= brand_names[0:20]\n",
    "flipkart['Product Description']= product_des[0:20]\n",
    "flipkart['Price']= price[0:20]\n",
    "flipkart['Discount']= discount[0:20]\n",
    "flipkart"
   ]
  },
  {
   "cell_type": "code",
   "execution_count": null,
   "metadata": {},
   "outputs": [],
   "source": []
  },
  {
   "cell_type": "code",
   "execution_count": null,
   "metadata": {},
   "outputs": [],
   "source": []
  },
  {
   "cell_type": "raw",
   "metadata": {},
   "source": [
    "Q5: Scrape 100 reviews data from flipkart.com for iphone11 phone. You have to go the link:\n",
    "https://www.flipkart.com/apple-iphone-11-black-64-gb-includes- earpods-poweradapter/p/itm0f37c2240b217?pid=MOBFKCTSVZAXUHGR&lid=LSTMOBFKC\n",
    "TSVZAXUHGREPBFGI&marketplace.\n",
    "When you will open the above link you will reach to the below shown webpage .\n",
    "As shown in the above page you have to scrape the tick marked attributes.These are:\n",
    "1. Rating\n",
    "2. Review summary\n",
    "3. Full review\n",
    "4. You have to scrape this data for first 100 reviews"
   ]
  },
  {
   "cell_type": "code",
   "execution_count": 71,
   "metadata": {},
   "outputs": [],
   "source": [
    "# let's import all required libraries\n",
    "import selenium\n",
    "from selenium import webdriver\n",
    "import pandas as pd\n",
    "import warnings\n",
    "warnings.filterwarnings('ignore')"
   ]
  },
  {
   "cell_type": "code",
   "execution_count": 72,
   "metadata": {},
   "outputs": [],
   "source": [
    "#Lets's connect to web driver\n",
    "driver = webdriver.Chrome('chromedriver.exe')"
   ]
  },
  {
   "cell_type": "code",
   "execution_count": 74,
   "metadata": {},
   "outputs": [],
   "source": [
    "url = 'https://www.flipkart.com/apple-iphone-11-black-64-gb-includes-%20earpods-poweradapter/p/itm0f37c2240b217?pid=MOBFKCTSVZAXUHGR&lid=LSTMOBFKC%20TSVZAXUHGREPBFGI&marketplace.'\n",
    "driver.get(url)"
   ]
  },
  {
   "cell_type": "code",
   "execution_count": null,
   "metadata": {},
   "outputs": [],
   "source": []
  },
  {
   "cell_type": "code",
   "execution_count": null,
   "metadata": {},
   "outputs": [],
   "source": []
  },
  {
   "cell_type": "code",
   "execution_count": null,
   "metadata": {},
   "outputs": [],
   "source": []
  },
  {
   "cell_type": "raw",
   "metadata": {},
   "source": [
    "Q6: Scrape data for first 100 sneakers you find when you visit flipkart.com andsearch for “sneakers” in the\n",
    "search field.\n",
    "You have to scrape 4 attributes of each sneaker:\n",
    "1. Brand\n",
    "2. Product Description\n",
    "3. Price\n",
    "As shown in the below image, you have to scrape the tick marked attributes."
   ]
  },
  {
   "cell_type": "code",
   "execution_count": 27,
   "metadata": {},
   "outputs": [],
   "source": [
    "# let's import all required libraries\n",
    "import selenium\n",
    "from selenium import webdriver\n",
    "import pandas as pd\n",
    "import warnings\n",
    "warnings.filterwarnings('ignore')"
   ]
  },
  {
   "cell_type": "code",
   "execution_count": 28,
   "metadata": {},
   "outputs": [],
   "source": [
    "#Lets's connect to web driver\n",
    "driver = webdriver.Chrome('chromedriver.exe')"
   ]
  },
  {
   "cell_type": "code",
   "execution_count": 29,
   "metadata": {},
   "outputs": [],
   "source": [
    "url = 'https://www.flipkart.com/'\n",
    "driver.get(url)"
   ]
  },
  {
   "cell_type": "code",
   "execution_count": 30,
   "metadata": {},
   "outputs": [
    {
     "data": {
      "text/plain": [
       "<selenium.webdriver.remote.webelement.WebElement (session=\"9416d38792ec725441c6339cdbfee609\", element=\"56bde9ec-70d7-4ac9-8a95-df24b4456e5c\")>"
      ]
     },
     "execution_count": 30,
     "metadata": {},
     "output_type": "execute_result"
    }
   ],
   "source": [
    "search_sneakers = driver.find_element_by_xpath('/html/body/div[1]/div/div[1]/div[1]/div[2]/div[2]/form/div/div/input')\n",
    "search_sneakers"
   ]
  },
  {
   "cell_type": "code",
   "execution_count": 31,
   "metadata": {},
   "outputs": [],
   "source": [
    "#write on search bar\n",
    "search_sneakers.send_keys(\"Sneakers\")"
   ]
  },
  {
   "cell_type": "code",
   "execution_count": 33,
   "metadata": {},
   "outputs": [
    {
     "data": {
      "text/plain": [
       "<selenium.webdriver.remote.webelement.WebElement (session=\"9416d38792ec725441c6339cdbfee609\", element=\"f86db528-e92a-46ac-8553-06831eda46cf\")>"
      ]
     },
     "execution_count": 33,
     "metadata": {},
     "output_type": "execute_result"
    }
   ],
   "source": [
    "search_btn = driver.find_element_by_xpath('/html/body/div[1]/div/div[1]/div[1]/div[2]/div[2]/form/div/button')\n",
    "search_btn"
   ]
  },
  {
   "cell_type": "code",
   "execution_count": 34,
   "metadata": {},
   "outputs": [],
   "source": [
    "search_btn.click()"
   ]
  },
  {
   "cell_type": "markdown",
   "metadata": {},
   "source": [
    "# Extracting Brand Names"
   ]
  },
  {
   "cell_type": "code",
   "execution_count": 35,
   "metadata": {},
   "outputs": [
    {
     "data": {
      "text/plain": [
       "[<selenium.webdriver.remote.webelement.WebElement (session=\"9416d38792ec725441c6339cdbfee609\", element=\"3f9bc705-f06c-43c4-aea8-9e5974d3234c\")>,\n",
       " <selenium.webdriver.remote.webelement.WebElement (session=\"9416d38792ec725441c6339cdbfee609\", element=\"aa9a2f9c-d341-45c8-ae39-8b048dd5a57d\")>,\n",
       " <selenium.webdriver.remote.webelement.WebElement (session=\"9416d38792ec725441c6339cdbfee609\", element=\"cab82000-5689-4434-bf66-f840dc5819d4\")>,\n",
       " <selenium.webdriver.remote.webelement.WebElement (session=\"9416d38792ec725441c6339cdbfee609\", element=\"ae2570ae-bd13-4f98-b78c-ddfeae07e834\")>,\n",
       " <selenium.webdriver.remote.webelement.WebElement (session=\"9416d38792ec725441c6339cdbfee609\", element=\"99540917-81cc-4e80-8f42-7c5f6f4ec8f4\")>,\n",
       " <selenium.webdriver.remote.webelement.WebElement (session=\"9416d38792ec725441c6339cdbfee609\", element=\"e9bd99ba-96f9-4224-a3a5-a9cbdae98146\")>,\n",
       " <selenium.webdriver.remote.webelement.WebElement (session=\"9416d38792ec725441c6339cdbfee609\", element=\"2e44fc3f-a680-4997-928c-6909fa38a460\")>,\n",
       " <selenium.webdriver.remote.webelement.WebElement (session=\"9416d38792ec725441c6339cdbfee609\", element=\"6aaa727b-a8bd-4fdb-9d26-38049fa79bc0\")>,\n",
       " <selenium.webdriver.remote.webelement.WebElement (session=\"9416d38792ec725441c6339cdbfee609\", element=\"a0793c0c-1358-40de-b295-14e3fb4fe54a\")>,\n",
       " <selenium.webdriver.remote.webelement.WebElement (session=\"9416d38792ec725441c6339cdbfee609\", element=\"cf88fa2c-2de2-46de-9bdf-f08d2d135fc8\")>]"
      ]
     },
     "execution_count": 35,
     "metadata": {},
     "output_type": "execute_result"
    }
   ],
   "source": [
    "# lets extract all web elements having Brand names\n",
    "brand_tags = driver.find_elements_by_xpath('//div[@class=\"_2WkVRV\"]')\n",
    "brand_tags[0:10]"
   ]
  },
  {
   "cell_type": "code",
   "execution_count": 36,
   "metadata": {},
   "outputs": [
    {
     "data": {
      "text/plain": [
       "['Echor',\n",
       " 'luxury fashion',\n",
       " 'Chevit',\n",
       " 'Magnolia',\n",
       " 'World Wear Footwear',\n",
       " 'TR',\n",
       " 'BRUTON',\n",
       " 'RapidBox',\n",
       " 'corsac',\n",
       " 'Kraasa']"
      ]
     },
     "execution_count": 36,
     "metadata": {},
     "output_type": "execute_result"
    }
   ],
   "source": [
    "brand_names = []\n",
    "\n",
    "for i in brand_tags:\n",
    "    brand_names.append(i.text)\n",
    "brand_names[0:10] "
   ]
  },
  {
   "cell_type": "markdown",
   "metadata": {},
   "source": [
    "# Extracting Product Description"
   ]
  },
  {
   "cell_type": "code",
   "execution_count": 37,
   "metadata": {},
   "outputs": [
    {
     "data": {
      "text/plain": [
       "[<selenium.webdriver.remote.webelement.WebElement (session=\"9416d38792ec725441c6339cdbfee609\", element=\"287ed78d-8a3a-435b-8fb8-56b4d3fb8e0c\")>,\n",
       " <selenium.webdriver.remote.webelement.WebElement (session=\"9416d38792ec725441c6339cdbfee609\", element=\"dec4f061-de2f-459c-82aa-70a5c60d80b9\")>,\n",
       " <selenium.webdriver.remote.webelement.WebElement (session=\"9416d38792ec725441c6339cdbfee609\", element=\"cf2179b8-ff15-400d-b0a8-dd09b362486d\")>,\n",
       " <selenium.webdriver.remote.webelement.WebElement (session=\"9416d38792ec725441c6339cdbfee609\", element=\"f3d3bc94-0bf8-47c2-b3eb-dce745d96e6c\")>,\n",
       " <selenium.webdriver.remote.webelement.WebElement (session=\"9416d38792ec725441c6339cdbfee609\", element=\"e77f63e1-c213-4978-b1fb-79db2aab36eb\")>,\n",
       " <selenium.webdriver.remote.webelement.WebElement (session=\"9416d38792ec725441c6339cdbfee609\", element=\"de8910c7-5498-413f-996e-77c92e4df251\")>,\n",
       " <selenium.webdriver.remote.webelement.WebElement (session=\"9416d38792ec725441c6339cdbfee609\", element=\"da6cb802-560e-42f4-ac2f-deabc53ef995\")>,\n",
       " <selenium.webdriver.remote.webelement.WebElement (session=\"9416d38792ec725441c6339cdbfee609\", element=\"98d4a3f4-e1ee-4fe5-bb60-def41d55af1a\")>,\n",
       " <selenium.webdriver.remote.webelement.WebElement (session=\"9416d38792ec725441c6339cdbfee609\", element=\"984d05f2-033b-4d31-aed4-6abbef102eaa\")>,\n",
       " <selenium.webdriver.remote.webelement.WebElement (session=\"9416d38792ec725441c6339cdbfee609\", element=\"cb7b11e6-5f0b-447b-a6eb-9422478d9e60\")>]"
      ]
     },
     "execution_count": 37,
     "metadata": {},
     "output_type": "execute_result"
    }
   ],
   "source": [
    "# lets extract all web elements having product description\n",
    "product_tags = driver.find_elements_by_xpath('//a[@class=\"IRpwTa\"]')\n",
    "product_tags[0:10]"
   ]
  },
  {
   "cell_type": "code",
   "execution_count": 38,
   "metadata": {},
   "outputs": [
    {
     "data": {
      "text/plain": [
       "[\"Men's casual shoe Black sneaker shoe for men Sneakers F...\",\n",
       " 'Luxury Fashionable casual shoes Sneakers For Men',\n",
       " 'Super Stylish & Trendy Combo Pack of 02 Pairs Sneakers ...',\n",
       " 'Sneakers For Men',\n",
       " '5011-Latest Collection Stylish Casual Loafer Sneakers S...',\n",
       " 'Sneakers For Men',\n",
       " 'Modern Trendy Sneakers Shoes Sneakers For Men',\n",
       " 'STYLISH MENS BLACK AND WHITE SNEAKER Sneakers For Men',\n",
       " 'Series 7 Sneakers For Men',\n",
       " 'Luxury Fashionable casual sneaker shoes Sneakers For Me...']"
      ]
     },
     "execution_count": 38,
     "metadata": {},
     "output_type": "execute_result"
    }
   ],
   "source": [
    "product_des = []\n",
    "\n",
    "for i in product_tags:\n",
    "    product_des.append(i.text)\n",
    "product_des[0:10] "
   ]
  },
  {
   "cell_type": "markdown",
   "metadata": {},
   "source": [
    "# Extracting price"
   ]
  },
  {
   "cell_type": "code",
   "execution_count": 39,
   "metadata": {},
   "outputs": [
    {
     "data": {
      "text/plain": [
       "[<selenium.webdriver.remote.webelement.WebElement (session=\"9416d38792ec725441c6339cdbfee609\", element=\"77b0af60-064f-4e74-8a61-b62847539ef7\")>,\n",
       " <selenium.webdriver.remote.webelement.WebElement (session=\"9416d38792ec725441c6339cdbfee609\", element=\"14f679e9-3738-4145-a40c-ba6873d98524\")>,\n",
       " <selenium.webdriver.remote.webelement.WebElement (session=\"9416d38792ec725441c6339cdbfee609\", element=\"9ad656f9-ad21-4f98-9bb9-72187ee6ea7c\")>,\n",
       " <selenium.webdriver.remote.webelement.WebElement (session=\"9416d38792ec725441c6339cdbfee609\", element=\"c68e755c-8545-422f-95cd-b511c0128565\")>,\n",
       " <selenium.webdriver.remote.webelement.WebElement (session=\"9416d38792ec725441c6339cdbfee609\", element=\"bd64b7d0-7e20-496f-b212-36cc3d725a6d\")>,\n",
       " <selenium.webdriver.remote.webelement.WebElement (session=\"9416d38792ec725441c6339cdbfee609\", element=\"962fd99f-596d-44f3-a0f6-f541ed47d810\")>,\n",
       " <selenium.webdriver.remote.webelement.WebElement (session=\"9416d38792ec725441c6339cdbfee609\", element=\"2acf0411-271b-4f07-b169-157d562d1e88\")>,\n",
       " <selenium.webdriver.remote.webelement.WebElement (session=\"9416d38792ec725441c6339cdbfee609\", element=\"53963c66-aaa8-4b62-a05e-71c9095dc026\")>,\n",
       " <selenium.webdriver.remote.webelement.WebElement (session=\"9416d38792ec725441c6339cdbfee609\", element=\"a320d3d1-f49f-40fd-86ec-6e1a4ec27a0a\")>,\n",
       " <selenium.webdriver.remote.webelement.WebElement (session=\"9416d38792ec725441c6339cdbfee609\", element=\"784077ac-fbf5-415e-a08e-27d55f17b402\")>]"
      ]
     },
     "execution_count": 39,
     "metadata": {},
     "output_type": "execute_result"
    }
   ],
   "source": [
    "# lets extract all web elements having product price\n",
    "price_tags = driver.find_elements_by_xpath('//div[@class=\"_30jeq3\"]')\n",
    "price_tags[0:10]"
   ]
  },
  {
   "cell_type": "code",
   "execution_count": 40,
   "metadata": {},
   "outputs": [
    {
     "data": {
      "text/plain": [
       "['₹449',\n",
       " '₹357',\n",
       " '₹469',\n",
       " '₹327',\n",
       " '₹149',\n",
       " '₹253',\n",
       " '₹209',\n",
       " '₹580',\n",
       " '₹399',\n",
       " '₹394']"
      ]
     },
     "execution_count": 40,
     "metadata": {},
     "output_type": "execute_result"
    }
   ],
   "source": [
    "price = []\n",
    "\n",
    "for i in price_tags:\n",
    "    price.append(i.text)\n",
    "price[0:10] "
   ]
  },
  {
   "cell_type": "markdown",
   "metadata": {},
   "source": [
    "# Extracting Discounts"
   ]
  },
  {
   "cell_type": "code",
   "execution_count": 41,
   "metadata": {},
   "outputs": [
    {
     "data": {
      "text/plain": [
       "[<selenium.webdriver.remote.webelement.WebElement (session=\"9416d38792ec725441c6339cdbfee609\", element=\"b3b7043d-b075-4776-8a44-a825a47c7b9b\")>,\n",
       " <selenium.webdriver.remote.webelement.WebElement (session=\"9416d38792ec725441c6339cdbfee609\", element=\"2728a9b5-eebf-49bd-b79f-2ebde74a87ed\")>,\n",
       " <selenium.webdriver.remote.webelement.WebElement (session=\"9416d38792ec725441c6339cdbfee609\", element=\"f1d9b47d-2029-413b-952b-f79614a9d7ea\")>,\n",
       " <selenium.webdriver.remote.webelement.WebElement (session=\"9416d38792ec725441c6339cdbfee609\", element=\"e78ec7ae-6c0d-459f-8c25-3091ed9fa196\")>,\n",
       " <selenium.webdriver.remote.webelement.WebElement (session=\"9416d38792ec725441c6339cdbfee609\", element=\"7ff5f11c-cb7e-4949-bc19-6ff4be401ee1\")>,\n",
       " <selenium.webdriver.remote.webelement.WebElement (session=\"9416d38792ec725441c6339cdbfee609\", element=\"9fce07c9-a520-4774-aadb-e431a2da21cd\")>,\n",
       " <selenium.webdriver.remote.webelement.WebElement (session=\"9416d38792ec725441c6339cdbfee609\", element=\"0aae9d59-70f5-4835-9f01-42c57533309d\")>,\n",
       " <selenium.webdriver.remote.webelement.WebElement (session=\"9416d38792ec725441c6339cdbfee609\", element=\"7e785e87-88be-406c-8f88-bc3d8a408017\")>,\n",
       " <selenium.webdriver.remote.webelement.WebElement (session=\"9416d38792ec725441c6339cdbfee609\", element=\"b83c93c5-22a5-4938-bd1a-c63cd1f02665\")>,\n",
       " <selenium.webdriver.remote.webelement.WebElement (session=\"9416d38792ec725441c6339cdbfee609\", element=\"b9cccbb4-18a8-48b3-9d1e-54c3b68a589f\")>]"
      ]
     },
     "execution_count": 41,
     "metadata": {},
     "output_type": "execute_result"
    }
   ],
   "source": [
    "# lets extract all web elements having product discount\n",
    "discount_tags = driver.find_elements_by_xpath('//div[@class=\"_3Ay6Sb\"]')\n",
    "discount_tags[0:10]"
   ]
  },
  {
   "cell_type": "code",
   "execution_count": 42,
   "metadata": {},
   "outputs": [
    {
     "data": {
      "text/plain": [
       "['70% off',\n",
       " '73% off',\n",
       " '71% off',\n",
       " '67% off',\n",
       " '70% off',\n",
       " '75% off',\n",
       " '84% off',\n",
       " '42% off',\n",
       " '73% off',\n",
       " '61% off']"
      ]
     },
     "execution_count": 42,
     "metadata": {},
     "output_type": "execute_result"
    }
   ],
   "source": [
    "discount = []\n",
    "\n",
    "for i in discount_tags:\n",
    "    discount.append(i.text)\n",
    "discount[0:10] "
   ]
  },
  {
   "cell_type": "code",
   "execution_count": 43,
   "metadata": {},
   "outputs": [
    {
     "data": {
      "text/plain": [
       "(40, 40, 35, 40)"
      ]
     },
     "execution_count": 43,
     "metadata": {},
     "output_type": "execute_result"
    }
   ],
   "source": [
    "len(brand_names),len(price),len(product_des),len(discount)"
   ]
  },
  {
   "cell_type": "code",
   "execution_count": 44,
   "metadata": {},
   "outputs": [
    {
     "data": {
      "text/html": [
       "<div>\n",
       "<style scoped>\n",
       "    .dataframe tbody tr th:only-of-type {\n",
       "        vertical-align: middle;\n",
       "    }\n",
       "\n",
       "    .dataframe tbody tr th {\n",
       "        vertical-align: top;\n",
       "    }\n",
       "\n",
       "    .dataframe thead th {\n",
       "        text-align: right;\n",
       "    }\n",
       "</style>\n",
       "<table border=\"1\" class=\"dataframe\">\n",
       "  <thead>\n",
       "    <tr style=\"text-align: right;\">\n",
       "      <th></th>\n",
       "      <th>Brand Name</th>\n",
       "      <th>Product Description</th>\n",
       "      <th>Price</th>\n",
       "      <th>Discount</th>\n",
       "    </tr>\n",
       "  </thead>\n",
       "  <tbody>\n",
       "    <tr>\n",
       "      <th>0</th>\n",
       "      <td>Echor</td>\n",
       "      <td>Men's casual shoe Black sneaker shoe for men S...</td>\n",
       "      <td>₹449</td>\n",
       "      <td>70% off</td>\n",
       "    </tr>\n",
       "    <tr>\n",
       "      <th>1</th>\n",
       "      <td>luxury fashion</td>\n",
       "      <td>Luxury Fashionable casual shoes Sneakers For Men</td>\n",
       "      <td>₹357</td>\n",
       "      <td>73% off</td>\n",
       "    </tr>\n",
       "    <tr>\n",
       "      <th>2</th>\n",
       "      <td>Chevit</td>\n",
       "      <td>Super Stylish &amp; Trendy Combo Pack of 02 Pairs ...</td>\n",
       "      <td>₹469</td>\n",
       "      <td>71% off</td>\n",
       "    </tr>\n",
       "    <tr>\n",
       "      <th>3</th>\n",
       "      <td>Magnolia</td>\n",
       "      <td>Sneakers For Men</td>\n",
       "      <td>₹327</td>\n",
       "      <td>67% off</td>\n",
       "    </tr>\n",
       "    <tr>\n",
       "      <th>4</th>\n",
       "      <td>World Wear Footwear</td>\n",
       "      <td>5011-Latest Collection Stylish Casual Loafer S...</td>\n",
       "      <td>₹149</td>\n",
       "      <td>70% off</td>\n",
       "    </tr>\n",
       "    <tr>\n",
       "      <th>5</th>\n",
       "      <td>TR</td>\n",
       "      <td>Sneakers For Men</td>\n",
       "      <td>₹253</td>\n",
       "      <td>75% off</td>\n",
       "    </tr>\n",
       "    <tr>\n",
       "      <th>6</th>\n",
       "      <td>BRUTON</td>\n",
       "      <td>Modern Trendy Sneakers Shoes Sneakers For Men</td>\n",
       "      <td>₹209</td>\n",
       "      <td>84% off</td>\n",
       "    </tr>\n",
       "    <tr>\n",
       "      <th>7</th>\n",
       "      <td>RapidBox</td>\n",
       "      <td>STYLISH MENS BLACK AND WHITE SNEAKER Sneakers ...</td>\n",
       "      <td>₹580</td>\n",
       "      <td>42% off</td>\n",
       "    </tr>\n",
       "    <tr>\n",
       "      <th>8</th>\n",
       "      <td>corsac</td>\n",
       "      <td>Series 7 Sneakers For Men</td>\n",
       "      <td>₹399</td>\n",
       "      <td>73% off</td>\n",
       "    </tr>\n",
       "    <tr>\n",
       "      <th>9</th>\n",
       "      <td>Kraasa</td>\n",
       "      <td>Luxury Fashionable casual sneaker shoes Sneake...</td>\n",
       "      <td>₹394</td>\n",
       "      <td>61% off</td>\n",
       "    </tr>\n",
       "    <tr>\n",
       "      <th>10</th>\n",
       "      <td>luxury fashion</td>\n",
       "      <td>Kwik FIT casual sneaker shoes and partywear sh...</td>\n",
       "      <td>₹399</td>\n",
       "      <td>69% off</td>\n",
       "    </tr>\n",
       "    <tr>\n",
       "      <th>11</th>\n",
       "      <td>RapidBox</td>\n",
       "      <td>Sneakers For Men</td>\n",
       "      <td>₹570</td>\n",
       "      <td>43% off</td>\n",
       "    </tr>\n",
       "    <tr>\n",
       "      <th>12</th>\n",
       "      <td>KWIK FIT</td>\n",
       "      <td>White Sneaker For Men's/Boy's Sneakers For Men</td>\n",
       "      <td>₹349</td>\n",
       "      <td>83% off</td>\n",
       "    </tr>\n",
       "    <tr>\n",
       "      <th>13</th>\n",
       "      <td>Kzaara</td>\n",
       "      <td>Echor Men's Sneakers Fashion Lightweight Runni...</td>\n",
       "      <td>₹209</td>\n",
       "      <td>79% off</td>\n",
       "    </tr>\n",
       "    <tr>\n",
       "      <th>14</th>\n",
       "      <td>Shoes Bank</td>\n",
       "      <td>Sneakers For Men</td>\n",
       "      <td>₹248</td>\n",
       "      <td>75% off</td>\n",
       "    </tr>\n",
       "    <tr>\n",
       "      <th>15</th>\n",
       "      <td>Echor</td>\n",
       "      <td>Sneakers For Men</td>\n",
       "      <td>₹433</td>\n",
       "      <td>71% off</td>\n",
       "    </tr>\n",
       "    <tr>\n",
       "      <th>16</th>\n",
       "      <td>URBANBOX</td>\n",
       "      <td>Sneakers For Men</td>\n",
       "      <td>₹148</td>\n",
       "      <td>85% off</td>\n",
       "    </tr>\n",
       "    <tr>\n",
       "      <th>17</th>\n",
       "      <td>World Wear Footwear</td>\n",
       "      <td>Casual , Partywear Sneakers Shoes For Men's An...</td>\n",
       "      <td>₹190</td>\n",
       "      <td>62% off</td>\n",
       "    </tr>\n",
       "    <tr>\n",
       "      <th>18</th>\n",
       "      <td>aadi</td>\n",
       "      <td>Combo Pack Of 4 Casual Shoes Loafer Shoes Snea...</td>\n",
       "      <td>₹269</td>\n",
       "      <td>73% off</td>\n",
       "    </tr>\n",
       "    <tr>\n",
       "      <th>19</th>\n",
       "      <td>Bacan</td>\n",
       "      <td>Sneakers For Men</td>\n",
       "      <td>₹476</td>\n",
       "      <td>52% off</td>\n",
       "    </tr>\n",
       "    <tr>\n",
       "      <th>20</th>\n",
       "      <td>D-SNEAKERZ</td>\n",
       "      <td>Sneakers For Men</td>\n",
       "      <td>₹249</td>\n",
       "      <td>62% off</td>\n",
       "    </tr>\n",
       "    <tr>\n",
       "      <th>21</th>\n",
       "      <td>BRUTON</td>\n",
       "      <td>Fashionable sneaker shoes Sneakers For Men</td>\n",
       "      <td>₹449</td>\n",
       "      <td>87% off</td>\n",
       "    </tr>\n",
       "    <tr>\n",
       "      <th>22</th>\n",
       "      <td>DUNKASTON</td>\n",
       "      <td>Shark-41 Sneakers For Men</td>\n",
       "      <td>₹269</td>\n",
       "      <td>82% off</td>\n",
       "    </tr>\n",
       "    <tr>\n",
       "      <th>23</th>\n",
       "      <td>Deals4you</td>\n",
       "      <td>sneaker men red 1258 - 9 Sneakers For Men</td>\n",
       "      <td>₹331</td>\n",
       "      <td>78% off</td>\n",
       "    </tr>\n",
       "    <tr>\n",
       "      <th>24</th>\n",
       "      <td>RapidBox</td>\n",
       "      <td>Modern &amp; Trendy Collection Combo Pack of 02 Sh...</td>\n",
       "      <td>₹630</td>\n",
       "      <td>37% off</td>\n",
       "    </tr>\n",
       "    <tr>\n",
       "      <th>25</th>\n",
       "      <td>luxury fashion</td>\n",
       "      <td>Luxury Fashionable casual sneaker shoes Sneake...</td>\n",
       "      <td>₹449</td>\n",
       "      <td>78% off</td>\n",
       "    </tr>\n",
       "    <tr>\n",
       "      <th>26</th>\n",
       "      <td>Kraasa</td>\n",
       "      <td>Sneaker Sneakers For Men</td>\n",
       "      <td>₹394</td>\n",
       "      <td>61% off</td>\n",
       "    </tr>\n",
       "    <tr>\n",
       "      <th>27</th>\n",
       "      <td>Airland</td>\n",
       "      <td>Men's Sneakers Fashion Lightweight Running Sho...</td>\n",
       "      <td>₹163</td>\n",
       "      <td>67% off</td>\n",
       "    </tr>\n",
       "    <tr>\n",
       "      <th>28</th>\n",
       "      <td>BRUTON</td>\n",
       "      <td>white Casual shoes,Sneakers for men's Sneakers...</td>\n",
       "      <td>₹421</td>\n",
       "      <td>83% off</td>\n",
       "    </tr>\n",
       "    <tr>\n",
       "      <th>29</th>\n",
       "      <td>India hub</td>\n",
       "      <td>Sneakers For Men</td>\n",
       "      <td>₹349</td>\n",
       "      <td>83% off</td>\n",
       "    </tr>\n",
       "  </tbody>\n",
       "</table>\n",
       "</div>"
      ],
      "text/plain": [
       "             Brand Name                                Product Description  \\\n",
       "0                 Echor  Men's casual shoe Black sneaker shoe for men S...   \n",
       "1        luxury fashion   Luxury Fashionable casual shoes Sneakers For Men   \n",
       "2                Chevit  Super Stylish & Trendy Combo Pack of 02 Pairs ...   \n",
       "3              Magnolia                                   Sneakers For Men   \n",
       "4   World Wear Footwear  5011-Latest Collection Stylish Casual Loafer S...   \n",
       "5                    TR                                   Sneakers For Men   \n",
       "6                BRUTON      Modern Trendy Sneakers Shoes Sneakers For Men   \n",
       "7              RapidBox  STYLISH MENS BLACK AND WHITE SNEAKER Sneakers ...   \n",
       "8                corsac                          Series 7 Sneakers For Men   \n",
       "9                Kraasa  Luxury Fashionable casual sneaker shoes Sneake...   \n",
       "10       luxury fashion  Kwik FIT casual sneaker shoes and partywear sh...   \n",
       "11             RapidBox                                   Sneakers For Men   \n",
       "12             KWIK FIT     White Sneaker For Men's/Boy's Sneakers For Men   \n",
       "13               Kzaara  Echor Men's Sneakers Fashion Lightweight Runni...   \n",
       "14           Shoes Bank                                   Sneakers For Men   \n",
       "15                Echor                                   Sneakers For Men   \n",
       "16             URBANBOX                                   Sneakers For Men   \n",
       "17  World Wear Footwear  Casual , Partywear Sneakers Shoes For Men's An...   \n",
       "18                 aadi  Combo Pack Of 4 Casual Shoes Loafer Shoes Snea...   \n",
       "19                Bacan                                   Sneakers For Men   \n",
       "20           D-SNEAKERZ                                   Sneakers For Men   \n",
       "21               BRUTON         Fashionable sneaker shoes Sneakers For Men   \n",
       "22            DUNKASTON                          Shark-41 Sneakers For Men   \n",
       "23            Deals4you          sneaker men red 1258 - 9 Sneakers For Men   \n",
       "24             RapidBox  Modern & Trendy Collection Combo Pack of 02 Sh...   \n",
       "25       luxury fashion  Luxury Fashionable casual sneaker shoes Sneake...   \n",
       "26               Kraasa                           Sneaker Sneakers For Men   \n",
       "27              Airland  Men's Sneakers Fashion Lightweight Running Sho...   \n",
       "28               BRUTON  white Casual shoes,Sneakers for men's Sneakers...   \n",
       "29            India hub                                   Sneakers For Men   \n",
       "\n",
       "   Price Discount  \n",
       "0   ₹449  70% off  \n",
       "1   ₹357  73% off  \n",
       "2   ₹469  71% off  \n",
       "3   ₹327  67% off  \n",
       "4   ₹149  70% off  \n",
       "5   ₹253  75% off  \n",
       "6   ₹209  84% off  \n",
       "7   ₹580  42% off  \n",
       "8   ₹399  73% off  \n",
       "9   ₹394  61% off  \n",
       "10  ₹399  69% off  \n",
       "11  ₹570  43% off  \n",
       "12  ₹349  83% off  \n",
       "13  ₹209  79% off  \n",
       "14  ₹248  75% off  \n",
       "15  ₹433  71% off  \n",
       "16  ₹148  85% off  \n",
       "17  ₹190  62% off  \n",
       "18  ₹269  73% off  \n",
       "19  ₹476  52% off  \n",
       "20  ₹249  62% off  \n",
       "21  ₹449  87% off  \n",
       "22  ₹269  82% off  \n",
       "23  ₹331  78% off  \n",
       "24  ₹630  37% off  \n",
       "25  ₹449  78% off  \n",
       "26  ₹394  61% off  \n",
       "27  ₹163  67% off  \n",
       "28  ₹421  83% off  \n",
       "29  ₹349  83% off  "
      ]
     },
     "execution_count": 44,
     "metadata": {},
     "output_type": "execute_result"
    }
   ],
   "source": [
    "flipkart=pd.DataFrame()\n",
    "flipkart['Brand Name']= brand_names[0:30]\n",
    "flipkart['Product Description']= product_des[0:30]\n",
    "flipkart['Price']= price[0:30]\n",
    "flipkart['Discount']= discount[0:30]\n",
    "flipkart"
   ]
  },
  {
   "cell_type": "raw",
   "metadata": {},
   "source": [
    "Q7: Go to the link - https://www.myntra.com/shoes\n",
    "Set Price filter to “Rs. 7149 to Rs. 14099 ” , Color filter to “Black”, as shown inthe below image."
   ]
  },
  {
   "cell_type": "code",
   "execution_count": 45,
   "metadata": {},
   "outputs": [],
   "source": [
    "# let's import all required libraries\n",
    "import selenium\n",
    "from selenium import webdriver\n",
    "import pandas as pd\n",
    "import warnings\n",
    "warnings.filterwarnings('ignore')"
   ]
  },
  {
   "cell_type": "code",
   "execution_count": 46,
   "metadata": {},
   "outputs": [],
   "source": [
    "#Lets's connect to web driver\n",
    "driver = webdriver.Chrome('chromedriver.exe')"
   ]
  },
  {
   "cell_type": "code",
   "execution_count": 47,
   "metadata": {},
   "outputs": [],
   "source": [
    "url = 'https://www.myntra.com/shoes'\n",
    "driver.get(url)"
   ]
  },
  {
   "cell_type": "code",
   "execution_count": 53,
   "metadata": {},
   "outputs": [
    {
     "data": {
      "text/plain": [
       "<selenium.webdriver.remote.webelement.WebElement (session=\"171a918cce02ef72e71b990dbac9b895\", element=\"0b1b79e2-406e-426c-b5c5-12e0fc781225\")>"
      ]
     },
     "execution_count": 53,
     "metadata": {},
     "output_type": "execute_result"
    }
   ],
   "source": [
    "#Setting price\n",
    "price_set = driver.find_element_by_xpath('/html/body/div[2]/div/div[1]/main/div[3]/div[1]/section/div/div[5]/ul/li[2]/label/div')\n",
    "price_set"
   ]
  },
  {
   "cell_type": "code",
   "execution_count": 54,
   "metadata": {},
   "outputs": [],
   "source": [
    "price_set.click()"
   ]
  },
  {
   "cell_type": "code",
   "execution_count": 55,
   "metadata": {},
   "outputs": [
    {
     "data": {
      "text/plain": [
       "<selenium.webdriver.remote.webelement.WebElement (session=\"171a918cce02ef72e71b990dbac9b895\", element=\"8160c4f7-ee4e-42fc-9a23-903dd1bad368\")>"
      ]
     },
     "execution_count": 55,
     "metadata": {},
     "output_type": "execute_result"
    }
   ],
   "source": [
    "#Clicking black colour\n",
    "colour_set = driver.find_element_by_xpath('/html/body/div[2]/div/div[1]/main/div[3]/div[1]/section/div/div[6]/ul/li[1]/label/div')\n",
    "colour_set"
   ]
  },
  {
   "cell_type": "code",
   "execution_count": 56,
   "metadata": {},
   "outputs": [],
   "source": [
    "colour_set.click()"
   ]
  },
  {
   "cell_type": "markdown",
   "metadata": {},
   "source": [
    "# Extracting Brand Name"
   ]
  },
  {
   "cell_type": "code",
   "execution_count": 58,
   "metadata": {},
   "outputs": [
    {
     "data": {
      "text/plain": [
       "[]"
      ]
     },
     "execution_count": 58,
     "metadata": {},
     "output_type": "execute_result"
    }
   ],
   "source": [
    "# lets extract all web elements having Brand names\n",
    "brand_tags = driver.find_elements_by_xpath('//h1[@class=\"pdp-title\"]')\n",
    "brand_tags[0:10]"
   ]
  },
  {
   "cell_type": "code",
   "execution_count": 59,
   "metadata": {},
   "outputs": [
    {
     "data": {
      "text/plain": [
       "[]"
      ]
     },
     "execution_count": 59,
     "metadata": {},
     "output_type": "execute_result"
    }
   ],
   "source": [
    "brand_names = []\n",
    "\n",
    "for i in brand_tags:\n",
    "    brand_names.append(i.text)\n",
    "brand_names[0:10] "
   ]
  },
  {
   "cell_type": "markdown",
   "metadata": {},
   "source": [
    "# Extracting Price"
   ]
  },
  {
   "cell_type": "code",
   "execution_count": 60,
   "metadata": {},
   "outputs": [
    {
     "data": {
      "text/plain": [
       "[<selenium.webdriver.remote.webelement.WebElement (session=\"171a918cce02ef72e71b990dbac9b895\", element=\"fafd2954-2614-47c2-95ae-cd21f5ebb974\")>,\n",
       " <selenium.webdriver.remote.webelement.WebElement (session=\"171a918cce02ef72e71b990dbac9b895\", element=\"ad373e2d-3021-47c6-8d7a-d1e1ef24ecd2\")>,\n",
       " <selenium.webdriver.remote.webelement.WebElement (session=\"171a918cce02ef72e71b990dbac9b895\", element=\"95d71aef-9275-422b-aee7-dea08b3be210\")>,\n",
       " <selenium.webdriver.remote.webelement.WebElement (session=\"171a918cce02ef72e71b990dbac9b895\", element=\"3a74613f-f023-4f8b-bbb1-af92a055589c\")>,\n",
       " <selenium.webdriver.remote.webelement.WebElement (session=\"171a918cce02ef72e71b990dbac9b895\", element=\"13c273c2-32ee-412e-8207-bae822530049\")>,\n",
       " <selenium.webdriver.remote.webelement.WebElement (session=\"171a918cce02ef72e71b990dbac9b895\", element=\"0d555280-ec4e-48e9-ab10-e7df78b16b27\")>,\n",
       " <selenium.webdriver.remote.webelement.WebElement (session=\"171a918cce02ef72e71b990dbac9b895\", element=\"2b72b6e7-ed3a-4612-81ee-483e9783c7ae\")>,\n",
       " <selenium.webdriver.remote.webelement.WebElement (session=\"171a918cce02ef72e71b990dbac9b895\", element=\"9065bbac-e586-4823-8e8a-7fc04e52c9e1\")>,\n",
       " <selenium.webdriver.remote.webelement.WebElement (session=\"171a918cce02ef72e71b990dbac9b895\", element=\"1d4a5ca5-f1db-4c15-8fab-4522cb86f371\")>,\n",
       " <selenium.webdriver.remote.webelement.WebElement (session=\"171a918cce02ef72e71b990dbac9b895\", element=\"90745a03-8cfa-497a-8887-db162f48b96e\")>]"
      ]
     },
     "execution_count": 60,
     "metadata": {},
     "output_type": "execute_result"
    }
   ],
   "source": [
    "# lets extract all web elements having product price\n",
    "price_tags = driver.find_elements_by_xpath('//div[@class=\"product-price\"]')\n",
    "price_tags[0:10]"
   ]
  },
  {
   "cell_type": "code",
   "execution_count": 61,
   "metadata": {},
   "outputs": [
    {
     "data": {
      "text/plain": [
       "['Rs. 7995',\n",
       " 'Rs. 9099Rs. 12999(30% OFF)',\n",
       " 'Rs. 12999',\n",
       " 'Rs. 7739Rs. 8599(10% OFF)',\n",
       " 'Rs. 13999',\n",
       " 'Rs. 12999',\n",
       " 'Rs. 12999',\n",
       " 'Rs. 7649Rs. 8999(15% OFF)',\n",
       " 'Rs. 7999',\n",
       " 'Rs. 10995']"
      ]
     },
     "execution_count": 61,
     "metadata": {},
     "output_type": "execute_result"
    }
   ],
   "source": [
    "price = []\n",
    "\n",
    "for i in price_tags:\n",
    "    price.append(i.text)\n",
    "price[0:10] "
   ]
  },
  {
   "cell_type": "markdown",
   "metadata": {},
   "source": [
    "# Extracting Product Description"
   ]
  },
  {
   "cell_type": "code",
   "execution_count": 66,
   "metadata": {},
   "outputs": [
    {
     "data": {
      "text/plain": [
       "[]"
      ]
     },
     "execution_count": 66,
     "metadata": {},
     "output_type": "execute_result"
    }
   ],
   "source": [
    "# lets extract all web elements having product description\n",
    "product_tags = driver.find_elements_by_xpath('//h1[@class=\"pdp-name\"]')\n",
    "product_tags[0:10]"
   ]
  },
  {
   "cell_type": "code",
   "execution_count": null,
   "metadata": {},
   "outputs": [],
   "source": []
  },
  {
   "cell_type": "code",
   "execution_count": 63,
   "metadata": {},
   "outputs": [
    {
     "data": {
      "text/plain": [
       "[]"
      ]
     },
     "execution_count": 63,
     "metadata": {},
     "output_type": "execute_result"
    }
   ],
   "source": [
    "product_des = []\n",
    "\n",
    "for i in product_tags:\n",
    "    product_des.append(i.text)\n",
    "product_des[0:10]"
   ]
  },
  {
   "cell_type": "raw",
   "metadata": {},
   "source": [
    "# Q8: Go to webpage https://www.amazon.in/\n",
    "Enter “Laptop” in the search field and then click the search icon.\n",
    "Then set CPU Type filter to “Intel Core i7” and “Intel Core i9” as shown in the below image:\n",
    "    After setting the filters scrape first 10 laptops data. You have to scrape 3 attributesfor each laptop:\n",
    "1. Title\n",
    "2. Ratings\n",
    "3. Price\n",
    "As shown in the below image as the tick marked attributes."
   ]
  },
  {
   "cell_type": "code",
   "execution_count": 67,
   "metadata": {},
   "outputs": [],
   "source": [
    "# let's import all required libraries\n",
    "import selenium\n",
    "from selenium import webdriver\n",
    "import pandas as pd\n",
    "import warnings\n",
    "warnings.filterwarnings('ignore')"
   ]
  },
  {
   "cell_type": "code",
   "execution_count": 94,
   "metadata": {},
   "outputs": [],
   "source": [
    "#Lets's connect to web driver\n",
    "driver = webdriver.Chrome('chromedriver.exe')"
   ]
  },
  {
   "cell_type": "code",
   "execution_count": 95,
   "metadata": {},
   "outputs": [],
   "source": [
    "url = 'https://www.amazon.in/'\n",
    "driver.get(url)"
   ]
  },
  {
   "cell_type": "code",
   "execution_count": 96,
   "metadata": {},
   "outputs": [
    {
     "data": {
      "text/plain": [
       "<selenium.webdriver.remote.webelement.WebElement (session=\"128773a594964df0c613c6464d91af4a\", element=\"6acc5eac-ab63-4f74-9b1a-8ab1339b56f0\")>"
      ]
     },
     "execution_count": 96,
     "metadata": {},
     "output_type": "execute_result"
    }
   ],
   "source": [
    "search_field = driver.find_element_by_xpath('/html/body/div[1]/header/div/div[1]/div[2]/div/form/div[2]/div[1]/input')\n",
    "search_field"
   ]
  },
  {
   "cell_type": "code",
   "execution_count": 97,
   "metadata": {},
   "outputs": [],
   "source": [
    "search_field.send_keys('Laptop')"
   ]
  },
  {
   "cell_type": "code",
   "execution_count": 98,
   "metadata": {},
   "outputs": [
    {
     "data": {
      "text/plain": [
       "<selenium.webdriver.remote.webelement.WebElement (session=\"128773a594964df0c613c6464d91af4a\", element=\"a355f990-67f7-46df-910a-6aef4006e040\")>"
      ]
     },
     "execution_count": 98,
     "metadata": {},
     "output_type": "execute_result"
    }
   ],
   "source": [
    "search_btn = driver.find_element_by_xpath('/html/body/div[1]/header/div/div[1]/div[2]/div/form/div[3]/div/span/input')\n",
    "search_btn"
   ]
  },
  {
   "cell_type": "code",
   "execution_count": 99,
   "metadata": {},
   "outputs": [],
   "source": [
    "search_btn.click()"
   ]
  },
  {
   "cell_type": "code",
   "execution_count": 109,
   "metadata": {},
   "outputs": [
    {
     "data": {
      "text/plain": [
       "<selenium.webdriver.remote.webelement.WebElement (session=\"128773a594964df0c613c6464d91af4a\", element=\"04be6e75-efa1-4e92-b1b1-fbffd04b5089\")>"
      ]
     },
     "execution_count": 109,
     "metadata": {},
     "output_type": "execute_result"
    }
   ],
   "source": [
    "cpu_check = driver.find_element_by_xpath('/html/body/div[1]/div[2]/div[1]/div[2]/div/div[3]/span/div[1]/div/div/div[6]/ul[4]/li[14]/span/a/div/label/i')\n",
    "cpu_check"
   ]
  },
  {
   "cell_type": "code",
   "execution_count": 110,
   "metadata": {},
   "outputs": [],
   "source": [
    "cpu_check.click()\n"
   ]
  },
  {
   "cell_type": "markdown",
   "metadata": {},
   "source": [
    "# Extracting Title"
   ]
  },
  {
   "cell_type": "code",
   "execution_count": 111,
   "metadata": {},
   "outputs": [
    {
     "data": {
      "text/plain": [
       "[<selenium.webdriver.remote.webelement.WebElement (session=\"128773a594964df0c613c6464d91af4a\", element=\"cccea8d5-0209-48f0-b01e-4ad1c7265790\")>,\n",
       " <selenium.webdriver.remote.webelement.WebElement (session=\"128773a594964df0c613c6464d91af4a\", element=\"9da16f5e-6c8c-4034-a026-9a60bf4406ca\")>,\n",
       " <selenium.webdriver.remote.webelement.WebElement (session=\"128773a594964df0c613c6464d91af4a\", element=\"9ff6faee-76ae-4c33-bc67-2e1a9c7e5560\")>,\n",
       " <selenium.webdriver.remote.webelement.WebElement (session=\"128773a594964df0c613c6464d91af4a\", element=\"a53a7187-9508-4ceb-baa3-ad31d7b038de\")>,\n",
       " <selenium.webdriver.remote.webelement.WebElement (session=\"128773a594964df0c613c6464d91af4a\", element=\"e6372ec1-b7d4-4d98-a1aa-1b2b2925bd25\")>,\n",
       " <selenium.webdriver.remote.webelement.WebElement (session=\"128773a594964df0c613c6464d91af4a\", element=\"3e7b1c52-dd8b-4424-ac39-9326c399e67a\")>,\n",
       " <selenium.webdriver.remote.webelement.WebElement (session=\"128773a594964df0c613c6464d91af4a\", element=\"9bc5ac22-87b7-42b5-b590-b263f689bdf7\")>,\n",
       " <selenium.webdriver.remote.webelement.WebElement (session=\"128773a594964df0c613c6464d91af4a\", element=\"7f8e9229-82fd-4833-81da-6c82d2f6cf9c\")>,\n",
       " <selenium.webdriver.remote.webelement.WebElement (session=\"128773a594964df0c613c6464d91af4a\", element=\"6e7224e5-f57b-497e-b34f-55cb6075511d\")>,\n",
       " <selenium.webdriver.remote.webelement.WebElement (session=\"128773a594964df0c613c6464d91af4a\", element=\"e6318c12-2081-4267-99a0-dc4815a5cd7c\")>]"
      ]
     },
     "execution_count": 111,
     "metadata": {},
     "output_type": "execute_result"
    }
   ],
   "source": [
    "# lets extract all web elements having Laptop titles\n",
    "title_tags = driver.find_elements_by_xpath('//a[@class=\"a-link-normal s-underline-text s-underline-link-text s-link-style a-text-normal\"]')\n",
    "title_tags[0:10]"
   ]
  },
  {
   "cell_type": "code",
   "execution_count": 112,
   "metadata": {},
   "outputs": [
    {
     "data": {
      "text/plain": [
       "['ASUS TUF Gaming F15 (2021), 15.6-inch (39.62 cms) FHD 240Hz/3ms, Intel Core i9-11900H 11th Gen, RTX 3060 6GB Graphics Gaming Laptop (16GB/1TB SSD/Office 2019/Windows 10/Black/2.3 kg), FX506HM-AZ099TS',\n",
       " 'ASUS TUF Gaming F15 (2021), 15.6\" (39.62 cms) FHD 240Hz, Intel Core i9-11900H 11th Gen, GeForce RTX 3060 6GB Graphics, Gaming Laptop(16GB/1TB SSD/Office 2019/Windows 10/Gray/2.3 Kg), FX566HM-AZ096TS',\n",
       " 'HP ZBOOK Power G8/ Intel core i9-11900H 8 Core/32GB DDR4 3200 RAM/1TB PCIe NVMe TLC SSD /15.6” FHD /Nvidia Quadro T1200 Dedicated Graphics 4GB DDR6 /Windows 10 Pro / 3 Year Warranty',\n",
       " '(Renewed) HP Omen 15-dh0139TX Gaming Laptop (9th Gen i9-9880H/16GB/1TB HDD + 512GB SSD/Win 10/8GB NVIDIA RTX 2080 Graphics) & Z3700 Wireless Mouse',\n",
       " 'ASUS TUF Gaming F15 (2021), 15.6-inch (39.62 cms) FHD 144Hz, Intel Core i9-11900H 11th Gen, RTX 3060 6GB Graphics Gaming Laptop (16GB RAM/1TB SSD/Office 2019/Windows 10/Gray/2.3 kg), FX566HM-HN097TS',\n",
       " 'HP ZBook Power G8/ Intel Core i9-11950H 2.5GHz 8 Core/64GB DDR4/ 2TB PCIe NVMe SSD /15.6” FHD/Nvidia Quadro RTX A2000 Graphics 4GB DDR6/ 1RJ45/ Windows 10 Pro/ 3 Year Warranty from HP',\n",
       " '(Renewed) Dell G7 7500 15.6inch FHD 300 Hz Display Gaming Laptop (10th Gen i9-10885H / 16 GB / 1TB SSD / NVIDIA RTX 2070 8GB Graphics / 1Yr Premium Warranty / Win 10 + MS Office H&S 2019) D560233WIN9B, Black',\n",
       " 'ASUS ROG Strix Scar 15 (2022), 15.6-inch (39.62 cms) 2K WQHD 240Hz/3ms, Core i9-12900H 12th Gen, RTX 3070 Ti 8GB Graphics, Gaming Laptop (32GB/2TB SSD/Win 11/Office 2021/Black/2.3 Kg), G533ZW-LN106WS',\n",
       " 'ASUS ROG Strix Scar 17 (2022), 17.3-inch (43.94 cms) 2K WQHD 240Hz/3ms, Core i9-12900H 12th Gen, RTX 3070 Ti 8GB Graphics, Gaming Laptop (32GB/2TB SSD/Win 11/Office 2021/Black/2.9 Kg), G733ZW-LL105WS',\n",
       " 'Dell Precision 5550 || i9 -10885H || 16GB || 1TB NVMe || T2000 4 GB || Win 10 Pro (Free Upgrade Win 11Pro) / 15.6 FHD+ / 3 Year ADP']"
      ]
     },
     "execution_count": 112,
     "metadata": {},
     "output_type": "execute_result"
    }
   ],
   "source": [
    "laptop_titles=[]\n",
    "\n",
    "for i in title_tags:\n",
    "    laptop_titles.append(i.text)\n",
    "laptop_titles[0:10]  "
   ]
  },
  {
   "cell_type": "markdown",
   "metadata": {},
   "source": [
    "# Extracting Ratings"
   ]
  },
  {
   "cell_type": "code",
   "execution_count": 120,
   "metadata": {},
   "outputs": [
    {
     "data": {
      "text/plain": [
       "[<selenium.webdriver.remote.webelement.WebElement (session=\"128773a594964df0c613c6464d91af4a\", element=\"ee4b9733-a408-44bb-857a-66c345f3606f\")>,\n",
       " <selenium.webdriver.remote.webelement.WebElement (session=\"128773a594964df0c613c6464d91af4a\", element=\"15a4c64b-5f71-4545-9bf2-e07545cd10d2\")>,\n",
       " <selenium.webdriver.remote.webelement.WebElement (session=\"128773a594964df0c613c6464d91af4a\", element=\"77420178-d25d-485c-8ef6-2596afa3069e\")>,\n",
       " <selenium.webdriver.remote.webelement.WebElement (session=\"128773a594964df0c613c6464d91af4a\", element=\"e4785786-59e9-490a-bead-4dec16638a0c\")>]"
      ]
     },
     "execution_count": 120,
     "metadata": {},
     "output_type": "execute_result"
    }
   ],
   "source": [
    "# lets extract all web elements having laptop Ratings\n",
    "rating_tags = driver.find_elements_by_xpath('//div[@class=\"a-row a-size-small\"]')\n",
    "rating_tags[0:10]"
   ]
  },
  {
   "cell_type": "code",
   "execution_count": 121,
   "metadata": {},
   "outputs": [
    {
     "data": {
      "text/plain": [
       "['8', '10', '1', '8']"
      ]
     },
     "execution_count": 121,
     "metadata": {},
     "output_type": "execute_result"
    }
   ],
   "source": [
    "ratings= []\n",
    "\n",
    "for i in rating_tags:\n",
    "    ratings.append(i.text)\n",
    "ratings[0:10] "
   ]
  },
  {
   "cell_type": "markdown",
   "metadata": {},
   "source": [
    "# Extracting Price"
   ]
  },
  {
   "cell_type": "code",
   "execution_count": 122,
   "metadata": {},
   "outputs": [
    {
     "data": {
      "text/plain": [
       "[<selenium.webdriver.remote.webelement.WebElement (session=\"128773a594964df0c613c6464d91af4a\", element=\"7b9341c9-53a0-4cc4-ad7a-bf47951b4998\")>,\n",
       " <selenium.webdriver.remote.webelement.WebElement (session=\"128773a594964df0c613c6464d91af4a\", element=\"afab9cf5-0157-4f16-ab72-20bef1fa3b86\")>,\n",
       " <selenium.webdriver.remote.webelement.WebElement (session=\"128773a594964df0c613c6464d91af4a\", element=\"80b3f811-9b9c-4308-b980-b5b235535f54\")>,\n",
       " <selenium.webdriver.remote.webelement.WebElement (session=\"128773a594964df0c613c6464d91af4a\", element=\"772b1d34-dcf0-4bbd-b811-760d9d3ab51a\")>,\n",
       " <selenium.webdriver.remote.webelement.WebElement (session=\"128773a594964df0c613c6464d91af4a\", element=\"8a75d2ce-3ac6-47c5-ba92-87e96cb158bb\")>,\n",
       " <selenium.webdriver.remote.webelement.WebElement (session=\"128773a594964df0c613c6464d91af4a\", element=\"3bcd9e5b-c62f-4189-8bdd-085bc65872db\")>,\n",
       " <selenium.webdriver.remote.webelement.WebElement (session=\"128773a594964df0c613c6464d91af4a\", element=\"c11cacfe-2322-4563-b1b1-abf25b29bce6\")>,\n",
       " <selenium.webdriver.remote.webelement.WebElement (session=\"128773a594964df0c613c6464d91af4a\", element=\"de0ff6d8-636f-410f-9924-ba03eaed620c\")>,\n",
       " <selenium.webdriver.remote.webelement.WebElement (session=\"128773a594964df0c613c6464d91af4a\", element=\"6f04d011-e7f2-4d70-8a09-73deeb0950c2\")>]"
      ]
     },
     "execution_count": 122,
     "metadata": {},
     "output_type": "execute_result"
    }
   ],
   "source": [
    "# lets extract all web elements having product price\n",
    "price_tags = driver.find_elements_by_xpath('//a[@class=\"a-size-base a-link-normal s-underline-text s-underline-link-text s-link-style a-text-normal\"]')\n",
    "price_tags[0:10]"
   ]
  },
  {
   "cell_type": "code",
   "execution_count": 123,
   "metadata": {},
   "outputs": [
    {
     "data": {
      "text/plain": [
       "['₹1,43,990\\n₹1,87,990',\n",
       " '₹2,32,900\\n₹2,59,000',\n",
       " '₹1,38,000',\n",
       " '₹1,45,990\\n₹1,75,990',\n",
       " '₹2,93,000\\n₹3,05,000',\n",
       " '₹1,72,000\\n₹2,27,700',\n",
       " '₹2,64,990\\n₹3,44,990',\n",
       " '₹2,59,990\\n₹3,50,990',\n",
       " '₹2,25,000\\n₹2,59,999']"
      ]
     },
     "execution_count": 123,
     "metadata": {},
     "output_type": "execute_result"
    }
   ],
   "source": [
    "price = []\n",
    "\n",
    "for i in price_tags:\n",
    "    price.append(i.text)\n",
    "price[0:10] "
   ]
  },
  {
   "cell_type": "code",
   "execution_count": 124,
   "metadata": {},
   "outputs": [
    {
     "data": {
      "text/plain": [
       "(10, 4, 9)"
      ]
     },
     "execution_count": 124,
     "metadata": {},
     "output_type": "execute_result"
    }
   ],
   "source": [
    "len(laptop_titles),len(ratings),len(price)"
   ]
  },
  {
   "cell_type": "code",
   "execution_count": null,
   "metadata": {},
   "outputs": [],
   "source": []
  },
  {
   "cell_type": "raw",
   "metadata": {},
   "source": [
    "Q9: Write a python program to scrape data for first 10 job results for Data Scientist Designation in Noida\n",
    "location. You have to scrape company name, No. of days ago when job was posted, Rating of the company.\n",
    "This task will be done in following steps:\n",
    "1. First get the webpage https://www.ambitionbox.com/\n",
    "2. Click on the Job option as shown in the image\n",
    "3. After reaching to the next webpage, In place of “Search by Designations, Companies, Skills” enter\n",
    "“Data Scientist” and click on search button.\n",
    "4. You will reach to the following web page click on location and in place of “Search location” enter\n",
    "“Noida” and select location “Noida”.\n",
    "5. Then scrape the data for the first 10 jobs results you get on the above shown page.\n",
    "6. Finally create a dataframe of the scraped data."
   ]
  },
  {
   "cell_type": "code",
   "execution_count": 1,
   "metadata": {},
   "outputs": [],
   "source": [
    "# let's import all required libraries\n",
    "import selenium\n",
    "from selenium import webdriver\n",
    "import pandas as pd\n",
    "import warnings\n",
    "warnings.filterwarnings('ignore')"
   ]
  },
  {
   "cell_type": "code",
   "execution_count": 2,
   "metadata": {},
   "outputs": [],
   "source": [
    "#Lets's connect to web driver\n",
    "driver = webdriver.Chrome('chromedriver.exe')"
   ]
  },
  {
   "cell_type": "code",
   "execution_count": 3,
   "metadata": {},
   "outputs": [],
   "source": [
    "url = 'https://www.ambitionbox.com/'\n",
    "driver.get(url)"
   ]
  },
  {
   "cell_type": "code",
   "execution_count": 4,
   "metadata": {},
   "outputs": [
    {
     "data": {
      "text/plain": [
       "<selenium.webdriver.remote.webelement.WebElement (session=\"e4e6210795664c6d5b7a6580ca46d602\", element=\"f5ac1a81-5afb-4981-8098-fbaf11780d03\")>"
      ]
     },
     "execution_count": 4,
     "metadata": {},
     "output_type": "execute_result"
    }
   ],
   "source": [
    "job_click = driver.find_element_by_xpath('/html/body/div[1]/nav/nav/a[6]')\n",
    "job_click"
   ]
  },
  {
   "cell_type": "code",
   "execution_count": 5,
   "metadata": {},
   "outputs": [],
   "source": [
    "job_click.click()"
   ]
  },
  {
   "cell_type": "code",
   "execution_count": 6,
   "metadata": {},
   "outputs": [
    {
     "data": {
      "text/plain": [
       "<selenium.webdriver.remote.webelement.WebElement (session=\"e4e6210795664c6d5b7a6580ca46d602\", element=\"0d6b68aa-ea0c-4c99-b67d-00ffb658751a\")>"
      ]
     },
     "execution_count": 6,
     "metadata": {},
     "output_type": "execute_result"
    }
   ],
   "source": [
    "search_job = driver.find_element_by_xpath('/html/body/div/div/div/div[2]/div[1]/div/div/div/div/span/input')\n",
    "search_job"
   ]
  },
  {
   "cell_type": "code",
   "execution_count": 7,
   "metadata": {},
   "outputs": [],
   "source": [
    "search_job.send_keys('Data Scientist')"
   ]
  },
  {
   "cell_type": "code",
   "execution_count": 8,
   "metadata": {},
   "outputs": [
    {
     "data": {
      "text/plain": [
       "<selenium.webdriver.remote.webelement.WebElement (session=\"e4e6210795664c6d5b7a6580ca46d602\", element=\"488db58f-44d4-4488-aa0d-2facbd81b671\")>"
      ]
     },
     "execution_count": 8,
     "metadata": {},
     "output_type": "execute_result"
    }
   ],
   "source": [
    "search_btn = driver.find_element_by_xpath('/html/body/div/div/div/div[2]/div[1]/div/div/div/button')\n",
    "search_btn"
   ]
  },
  {
   "cell_type": "code",
   "execution_count": 9,
   "metadata": {},
   "outputs": [],
   "source": [
    "search_btn.click()"
   ]
  },
  {
   "cell_type": "code",
   "execution_count": 10,
   "metadata": {},
   "outputs": [
    {
     "data": {
      "text/plain": [
       "<selenium.webdriver.remote.webelement.WebElement (session=\"e4e6210795664c6d5b7a6580ca46d602\", element=\"0699a865-41a3-4cb6-9884-a65401e4905d\")>"
      ]
     },
     "execution_count": 10,
     "metadata": {},
     "output_type": "execute_result"
    }
   ],
   "source": [
    "search_locn = driver.find_element_by_xpath('/html/body/div/div/div/div[2]/div[2]/div[1]/div/div/div/div[2]/div[2]/div/div[2]/input')\n",
    "search_locn"
   ]
  },
  {
   "cell_type": "code",
   "execution_count": 11,
   "metadata": {},
   "outputs": [],
   "source": [
    "search_locn.send_keys('Noida')"
   ]
  },
  {
   "cell_type": "code",
   "execution_count": 12,
   "metadata": {},
   "outputs": [
    {
     "data": {
      "text/plain": [
       "<selenium.webdriver.remote.webelement.WebElement (session=\"e4e6210795664c6d5b7a6580ca46d602\", element=\"5315f474-6986-4948-be17-9b13216b7518\")>"
      ]
     },
     "execution_count": 12,
     "metadata": {},
     "output_type": "execute_result"
    }
   ],
   "source": [
    "location_check = driver.find_element_by_xpath('/html/body/div/div/div/div[2]/div[2]/div[1]/div/div/div/div[2]/div[2]/div/div[3]/div[1]/div[1]/div/label')\n",
    "location_check"
   ]
  },
  {
   "cell_type": "code",
   "execution_count": 13,
   "metadata": {},
   "outputs": [],
   "source": [
    "location_check.click()"
   ]
  },
  {
   "cell_type": "markdown",
   "metadata": {},
   "source": [
    "# Extracting company names"
   ]
  },
  {
   "cell_type": "code",
   "execution_count": 16,
   "metadata": {},
   "outputs": [
    {
     "data": {
      "text/plain": [
       "[<selenium.webdriver.remote.webelement.WebElement (session=\"e4e6210795664c6d5b7a6580ca46d602\", element=\"5bbd94d7-768c-483e-aaa5-0f48d6552fd0\")>,\n",
       " <selenium.webdriver.remote.webelement.WebElement (session=\"e4e6210795664c6d5b7a6580ca46d602\", element=\"37c26de4-466d-407a-b8c8-af05475ac390\")>,\n",
       " <selenium.webdriver.remote.webelement.WebElement (session=\"e4e6210795664c6d5b7a6580ca46d602\", element=\"08abd1a7-426a-44ca-ae54-5b9e88361304\")>,\n",
       " <selenium.webdriver.remote.webelement.WebElement (session=\"e4e6210795664c6d5b7a6580ca46d602\", element=\"83a7f0ea-5895-42e4-b95c-ce03b4ee8f0f\")>,\n",
       " <selenium.webdriver.remote.webelement.WebElement (session=\"e4e6210795664c6d5b7a6580ca46d602\", element=\"036f46a8-a16d-4d24-bb58-09e779483e86\")>,\n",
       " <selenium.webdriver.remote.webelement.WebElement (session=\"e4e6210795664c6d5b7a6580ca46d602\", element=\"51e96dba-02a9-44dc-a990-afac3e5ba528\")>,\n",
       " <selenium.webdriver.remote.webelement.WebElement (session=\"e4e6210795664c6d5b7a6580ca46d602\", element=\"73773e60-fab9-4344-9e77-9e557cd35679\")>,\n",
       " <selenium.webdriver.remote.webelement.WebElement (session=\"e4e6210795664c6d5b7a6580ca46d602\", element=\"cf5a5750-ae9e-42e8-8c18-d8f7b48101d6\")>,\n",
       " <selenium.webdriver.remote.webelement.WebElement (session=\"e4e6210795664c6d5b7a6580ca46d602\", element=\"16e5362c-30be-405d-af70-569cbddad486\")>,\n",
       " <selenium.webdriver.remote.webelement.WebElement (session=\"e4e6210795664c6d5b7a6580ca46d602\", element=\"368c0b03-e9e2-45f4-9b48-88bbec004c1d\")>]"
      ]
     },
     "execution_count": 16,
     "metadata": {},
     "output_type": "execute_result"
    }
   ],
   "source": [
    "# lets extract all web elements having company names\n",
    "company_tags = driver.find_elements_by_xpath('//p[@class=\"company body-medium\"]')\n",
    "company_tags[0:10]"
   ]
  },
  {
   "cell_type": "code",
   "execution_count": 17,
   "metadata": {},
   "outputs": [
    {
     "data": {
      "text/plain": [
       "['NTT DATA GLOBAL DELIVERY SERVICES PRIVATE LIMITED',\n",
       " 'HCL Technologies Limited',\n",
       " 'Optum Global Solutions (India) Private Limited',\n",
       " 'WSP CONSULTANTS INDIA PRIVATE LIMITED',\n",
       " 'Microsoft India (R and D) Pvt Ltd',\n",
       " 'HCL Technologies Ltd',\n",
       " 'Jubilant Foodworks Limited',\n",
       " 'HCL Technologies',\n",
       " 'RATEGAIN TRAVEL TECHNOLOGIES LIMITED',\n",
       " 'Hanu Software Solutions Pvt Ltd']"
      ]
     },
     "execution_count": 17,
     "metadata": {},
     "output_type": "execute_result"
    }
   ],
   "source": [
    "company_names = []\n",
    "\n",
    "for i in company_tags:\n",
    "    company_names.append(i.text)\n",
    "company_names[0:10] "
   ]
  },
  {
   "cell_type": "markdown",
   "metadata": {},
   "source": [
    "# Extracting No. of days"
   ]
  },
  {
   "cell_type": "code",
   "execution_count": 19,
   "metadata": {},
   "outputs": [
    {
     "data": {
      "text/plain": [
       "[<selenium.webdriver.remote.webelement.WebElement (session=\"e4e6210795664c6d5b7a6580ca46d602\", element=\"c4c84553-32b9-427c-87de-0e9824ffe632\")>,\n",
       " <selenium.webdriver.remote.webelement.WebElement (session=\"e4e6210795664c6d5b7a6580ca46d602\", element=\"d3df8a8c-96c9-419d-acac-2a5d32152bc6\")>,\n",
       " <selenium.webdriver.remote.webelement.WebElement (session=\"e4e6210795664c6d5b7a6580ca46d602\", element=\"4b7d3e6b-acab-45ac-a227-987816b6b42b\")>,\n",
       " <selenium.webdriver.remote.webelement.WebElement (session=\"e4e6210795664c6d5b7a6580ca46d602\", element=\"fbc8f980-c964-4ebd-8535-eaa96dd2b3b7\")>,\n",
       " <selenium.webdriver.remote.webelement.WebElement (session=\"e4e6210795664c6d5b7a6580ca46d602\", element=\"40bb638d-cee0-4974-872e-0ad3407e9ac7\")>,\n",
       " <selenium.webdriver.remote.webelement.WebElement (session=\"e4e6210795664c6d5b7a6580ca46d602\", element=\"4b3d6937-3b02-4e33-9297-165f6f206ef5\")>,\n",
       " <selenium.webdriver.remote.webelement.WebElement (session=\"e4e6210795664c6d5b7a6580ca46d602\", element=\"172663e8-e863-4c1c-af70-86a799813aaf\")>,\n",
       " <selenium.webdriver.remote.webelement.WebElement (session=\"e4e6210795664c6d5b7a6580ca46d602\", element=\"98a9c016-1844-455c-b834-ec78d5cc2f4a\")>,\n",
       " <selenium.webdriver.remote.webelement.WebElement (session=\"e4e6210795664c6d5b7a6580ca46d602\", element=\"d0259c9c-8a82-4f04-87ce-4185fd018bfe\")>,\n",
       " <selenium.webdriver.remote.webelement.WebElement (session=\"e4e6210795664c6d5b7a6580ca46d602\", element=\"af889445-3a73-4df5-a448-fbc0ea278130\")>]"
      ]
     },
     "execution_count": 19,
     "metadata": {},
     "output_type": "execute_result"
    }
   ],
   "source": [
    "# lets extract all web elements having no. of days\n",
    "nod_tags = driver.find_elements_by_xpath('//span[@class=\"body-small-l\"]')\n",
    "nod_tags[0:10]"
   ]
  },
  {
   "cell_type": "code",
   "execution_count": 20,
   "metadata": {},
   "outputs": [
    {
     "data": {
      "text/plain": [
       "['7d ago',\n",
       " 'via naukri.com',\n",
       " '8d ago',\n",
       " 'via naukri.com',\n",
       " '18d ago',\n",
       " 'via naukri.com',\n",
       " '8d ago',\n",
       " 'via naukri.com',\n",
       " '19d ago',\n",
       " 'via naukri.com']"
      ]
     },
     "execution_count": 20,
     "metadata": {},
     "output_type": "execute_result"
    }
   ],
   "source": [
    "no_of_days= []\n",
    "\n",
    "for i in nod_tags:\n",
    "    no_of_days.append(i.text)\n",
    "no_of_days[0:10]   "
   ]
  },
  {
   "cell_type": "markdown",
   "metadata": {},
   "source": [
    "# Extracting company rating"
   ]
  },
  {
   "cell_type": "code",
   "execution_count": 21,
   "metadata": {},
   "outputs": [
    {
     "data": {
      "text/plain": [
       "[<selenium.webdriver.remote.webelement.WebElement (session=\"e4e6210795664c6d5b7a6580ca46d602\", element=\"3e516f6a-0f66-488f-b9ae-a2f63f0a20cd\")>,\n",
       " <selenium.webdriver.remote.webelement.WebElement (session=\"e4e6210795664c6d5b7a6580ca46d602\", element=\"c1a23b0f-c17d-4941-ac3a-d8404136abbe\")>,\n",
       " <selenium.webdriver.remote.webelement.WebElement (session=\"e4e6210795664c6d5b7a6580ca46d602\", element=\"3556f924-0a4a-459f-8071-02eda1f86058\")>,\n",
       " <selenium.webdriver.remote.webelement.WebElement (session=\"e4e6210795664c6d5b7a6580ca46d602\", element=\"c811af5b-8f83-43c4-aecd-de773a694228\")>,\n",
       " <selenium.webdriver.remote.webelement.WebElement (session=\"e4e6210795664c6d5b7a6580ca46d602\", element=\"69a79815-45f1-4d08-b3b1-585fd0a119c9\")>,\n",
       " <selenium.webdriver.remote.webelement.WebElement (session=\"e4e6210795664c6d5b7a6580ca46d602\", element=\"8dc5401f-65d6-4ff6-a3f1-c5027c1c557a\")>,\n",
       " <selenium.webdriver.remote.webelement.WebElement (session=\"e4e6210795664c6d5b7a6580ca46d602\", element=\"b3c57389-99b0-438a-8885-85b4b0e4e4ac\")>,\n",
       " <selenium.webdriver.remote.webelement.WebElement (session=\"e4e6210795664c6d5b7a6580ca46d602\", element=\"5fe7a7b7-0b1b-495f-ad2f-a0e2dc88c04e\")>,\n",
       " <selenium.webdriver.remote.webelement.WebElement (session=\"e4e6210795664c6d5b7a6580ca46d602\", element=\"22c03474-ba6b-4b41-bb7a-f2d941268657\")>,\n",
       " <selenium.webdriver.remote.webelement.WebElement (session=\"e4e6210795664c6d5b7a6580ca46d602\", element=\"1ae746d6-4090-41ae-83f3-5344c57185e8\")>]"
      ]
     },
     "execution_count": 21,
     "metadata": {},
     "output_type": "execute_result"
    }
   ],
   "source": [
    "rating_tags = driver.find_elements_by_xpath('//span[@class=\"body-small\"]')\n",
    "rating_tags[0:10]"
   ]
  },
  {
   "cell_type": "code",
   "execution_count": 22,
   "metadata": {},
   "outputs": [
    {
     "data": {
      "text/plain": [
       "['3.9', '3.8', '4.1', '4.2', '4.2', '3.8', '3.9', '3.8', '3.8', '3.7']"
      ]
     },
     "execution_count": 22,
     "metadata": {},
     "output_type": "execute_result"
    }
   ],
   "source": [
    "com_rating= []\n",
    "\n",
    "for i in rating_tags:\n",
    "    com_rating.append(i.text)\n",
    "com_rating[0:10] "
   ]
  },
  {
   "cell_type": "code",
   "execution_count": 23,
   "metadata": {},
   "outputs": [
    {
     "data": {
      "text/plain": [
       "(10, 20, 10)"
      ]
     },
     "execution_count": 23,
     "metadata": {},
     "output_type": "execute_result"
    }
   ],
   "source": [
    "len(company_names),len(no_of_days),len(com_rating)"
   ]
  },
  {
   "cell_type": "code",
   "execution_count": 24,
   "metadata": {},
   "outputs": [
    {
     "data": {
      "text/html": [
       "<div>\n",
       "<style scoped>\n",
       "    .dataframe tbody tr th:only-of-type {\n",
       "        vertical-align: middle;\n",
       "    }\n",
       "\n",
       "    .dataframe tbody tr th {\n",
       "        vertical-align: top;\n",
       "    }\n",
       "\n",
       "    .dataframe thead th {\n",
       "        text-align: right;\n",
       "    }\n",
       "</style>\n",
       "<table border=\"1\" class=\"dataframe\">\n",
       "  <thead>\n",
       "    <tr style=\"text-align: right;\">\n",
       "      <th></th>\n",
       "      <th>Company Names</th>\n",
       "      <th>No. of Days</th>\n",
       "      <th>Company Ratings</th>\n",
       "    </tr>\n",
       "  </thead>\n",
       "  <tbody>\n",
       "    <tr>\n",
       "      <th>0</th>\n",
       "      <td>NTT DATA GLOBAL DELIVERY SERVICES PRIVATE LIMITED</td>\n",
       "      <td>7d ago</td>\n",
       "      <td>3.9</td>\n",
       "    </tr>\n",
       "    <tr>\n",
       "      <th>1</th>\n",
       "      <td>HCL Technologies Limited</td>\n",
       "      <td>via naukri.com</td>\n",
       "      <td>3.8</td>\n",
       "    </tr>\n",
       "    <tr>\n",
       "      <th>2</th>\n",
       "      <td>Optum Global Solutions (India) Private Limited</td>\n",
       "      <td>8d ago</td>\n",
       "      <td>4.1</td>\n",
       "    </tr>\n",
       "    <tr>\n",
       "      <th>3</th>\n",
       "      <td>WSP CONSULTANTS INDIA PRIVATE LIMITED</td>\n",
       "      <td>via naukri.com</td>\n",
       "      <td>4.2</td>\n",
       "    </tr>\n",
       "    <tr>\n",
       "      <th>4</th>\n",
       "      <td>Microsoft India (R and D) Pvt Ltd</td>\n",
       "      <td>18d ago</td>\n",
       "      <td>4.2</td>\n",
       "    </tr>\n",
       "    <tr>\n",
       "      <th>5</th>\n",
       "      <td>HCL Technologies Ltd</td>\n",
       "      <td>via naukri.com</td>\n",
       "      <td>3.8</td>\n",
       "    </tr>\n",
       "    <tr>\n",
       "      <th>6</th>\n",
       "      <td>Jubilant Foodworks Limited</td>\n",
       "      <td>8d ago</td>\n",
       "      <td>3.9</td>\n",
       "    </tr>\n",
       "    <tr>\n",
       "      <th>7</th>\n",
       "      <td>HCL Technologies</td>\n",
       "      <td>via naukri.com</td>\n",
       "      <td>3.8</td>\n",
       "    </tr>\n",
       "    <tr>\n",
       "      <th>8</th>\n",
       "      <td>RATEGAIN TRAVEL TECHNOLOGIES LIMITED</td>\n",
       "      <td>19d ago</td>\n",
       "      <td>3.8</td>\n",
       "    </tr>\n",
       "    <tr>\n",
       "      <th>9</th>\n",
       "      <td>Hanu Software Solutions Pvt Ltd</td>\n",
       "      <td>via naukri.com</td>\n",
       "      <td>3.7</td>\n",
       "    </tr>\n",
       "  </tbody>\n",
       "</table>\n",
       "</div>"
      ],
      "text/plain": [
       "                                       Company Names     No. of Days  \\\n",
       "0  NTT DATA GLOBAL DELIVERY SERVICES PRIVATE LIMITED          7d ago   \n",
       "1                           HCL Technologies Limited  via naukri.com   \n",
       "2     Optum Global Solutions (India) Private Limited          8d ago   \n",
       "3              WSP CONSULTANTS INDIA PRIVATE LIMITED  via naukri.com   \n",
       "4                  Microsoft India (R and D) Pvt Ltd         18d ago   \n",
       "5                               HCL Technologies Ltd  via naukri.com   \n",
       "6                         Jubilant Foodworks Limited          8d ago   \n",
       "7                                   HCL Technologies  via naukri.com   \n",
       "8               RATEGAIN TRAVEL TECHNOLOGIES LIMITED         19d ago   \n",
       "9                    Hanu Software Solutions Pvt Ltd  via naukri.com   \n",
       "\n",
       "  Company Ratings  \n",
       "0             3.9  \n",
       "1             3.8  \n",
       "2             4.1  \n",
       "3             4.2  \n",
       "4             4.2  \n",
       "5             3.8  \n",
       "6             3.9  \n",
       "7             3.8  \n",
       "8             3.8  \n",
       "9             3.7  "
      ]
     },
     "execution_count": 24,
     "metadata": {},
     "output_type": "execute_result"
    }
   ],
   "source": [
    "jobs=pd.DataFrame()\n",
    "jobs['Company Names']= company_names[0:10]\n",
    "jobs['No. of Days']= no_of_days[0:10]\n",
    "jobs['Company Ratings']= com_rating[0:10]\n",
    "jobs"
   ]
  },
  {
   "cell_type": "code",
   "execution_count": null,
   "metadata": {},
   "outputs": [],
   "source": []
  },
  {
   "cell_type": "raw",
   "metadata": {},
   "source": [
    "Q10: Write a python program to scrape the salary data for Data Scientist designation.\n",
    "You have to scrape Company name, Number of salaries, Average salary, Minsalary, Max Salary.\n",
    "The above task will be, done as shown in the below steps:\n",
    "1. First get the webpage https://www.ambitionbox.com/\n",
    "2. Click on the salaries option as shown in the image.\n",
    "3. After reaching to the following webpage, In place of “Search Job Profile” enters “Data Scientist” and\n",
    "then click on “Data Scientist”.\n",
    "You have to scrape the data ticked in the above image.\n",
    "4. Scrape the data for the first 10 companies. Scrape the company name, total salary record, average\n",
    "salary, minimum salary, maximum salary, experience required.\n",
    "5. Store the data in a dataframe."
   ]
  },
  {
   "cell_type": "code",
   "execution_count": 25,
   "metadata": {},
   "outputs": [],
   "source": [
    "# let's import all required libraries\n",
    "import selenium\n",
    "from selenium import webdriver\n",
    "import pandas as pd\n",
    "import warnings\n",
    "warnings.filterwarnings('ignore')"
   ]
  },
  {
   "cell_type": "code",
   "execution_count": 48,
   "metadata": {},
   "outputs": [],
   "source": [
    "#Lets's connect to web driver\n",
    "driver = webdriver.Chrome('chromedriver.exe')"
   ]
  },
  {
   "cell_type": "code",
   "execution_count": 49,
   "metadata": {},
   "outputs": [],
   "source": [
    "url = 'https://www.ambitionbox.com/'\n",
    "driver.get(url)"
   ]
  },
  {
   "cell_type": "code",
   "execution_count": 50,
   "metadata": {},
   "outputs": [
    {
     "data": {
      "text/plain": [
       "<selenium.webdriver.remote.webelement.WebElement (session=\"55b802d99752cf7b685a9452802daf2a\", element=\"01993f0b-ddd2-4d13-8499-2cae33303c1d\")>"
      ]
     },
     "execution_count": 50,
     "metadata": {},
     "output_type": "execute_result"
    }
   ],
   "source": [
    "salary_click = driver.find_element_by_xpath('/html/body/div[1]/nav/nav/a[4]')\n",
    "salary_click"
   ]
  },
  {
   "cell_type": "code",
   "execution_count": 51,
   "metadata": {},
   "outputs": [],
   "source": [
    "salary_click.click()"
   ]
  },
  {
   "cell_type": "code",
   "execution_count": 52,
   "metadata": {},
   "outputs": [
    {
     "data": {
      "text/plain": [
       "<selenium.webdriver.remote.webelement.WebElement (session=\"55b802d99752cf7b685a9452802daf2a\", element=\"74fdbed6-d07c-41db-953e-ca16037843eb\")>"
      ]
     },
     "execution_count": 52,
     "metadata": {},
     "output_type": "execute_result"
    }
   ],
   "source": [
    "search_job = driver.find_element_by_xpath('/html/body/div/div/div/main/section[1]/div[2]/div[1]/span/input')\n",
    "search_job"
   ]
  },
  {
   "cell_type": "code",
   "execution_count": 53,
   "metadata": {},
   "outputs": [],
   "source": [
    "search_job.send_keys('Data Scientist')"
   ]
  },
  {
   "cell_type": "markdown",
   "metadata": {},
   "source": [
    "# Extracting company names"
   ]
  },
  {
   "cell_type": "code",
   "execution_count": 55,
   "metadata": {},
   "outputs": [
    {
     "data": {
      "text/plain": [
       "[<selenium.webdriver.remote.webelement.WebElement (session=\"55b802d99752cf7b685a9452802daf2a\", element=\"4ec848bd-a8c3-4333-9710-b516a16c503a\")>,\n",
       " <selenium.webdriver.remote.webelement.WebElement (session=\"55b802d99752cf7b685a9452802daf2a\", element=\"c4d5d99c-eebd-4fac-b888-3e97cc4410df\")>,\n",
       " <selenium.webdriver.remote.webelement.WebElement (session=\"55b802d99752cf7b685a9452802daf2a\", element=\"20d88373-7aa9-4c44-bbdc-d58a90d42384\")>,\n",
       " <selenium.webdriver.remote.webelement.WebElement (session=\"55b802d99752cf7b685a9452802daf2a\", element=\"e951dde9-8f5a-489f-ab70-1bc36ad8170a\")>,\n",
       " <selenium.webdriver.remote.webelement.WebElement (session=\"55b802d99752cf7b685a9452802daf2a\", element=\"9ce3ef25-d0b0-4a3c-bed6-37d90e5aab7e\")>,\n",
       " <selenium.webdriver.remote.webelement.WebElement (session=\"55b802d99752cf7b685a9452802daf2a\", element=\"939ef98c-5bf7-4419-9cf1-ab406794a74a\")>,\n",
       " <selenium.webdriver.remote.webelement.WebElement (session=\"55b802d99752cf7b685a9452802daf2a\", element=\"38ee47f1-0264-4be9-96a1-379e15fc2b4e\")>,\n",
       " <selenium.webdriver.remote.webelement.WebElement (session=\"55b802d99752cf7b685a9452802daf2a\", element=\"8f0b292c-49a9-4d74-80d4-7b02c994be8f\")>,\n",
       " <selenium.webdriver.remote.webelement.WebElement (session=\"55b802d99752cf7b685a9452802daf2a\", element=\"5d32b4fc-41a3-4925-9652-d80c6a785425\")>,\n",
       " <selenium.webdriver.remote.webelement.WebElement (session=\"55b802d99752cf7b685a9452802daf2a\", element=\"14b5485b-1d1b-438f-9c48-44351685faa8\")>]"
      ]
     },
     "execution_count": 55,
     "metadata": {},
     "output_type": "execute_result"
    }
   ],
   "source": [
    "company_tags = driver.find_elements_by_xpath('//div[@class=\"company-info\"]')\n",
    "company_tags[0:10]"
   ]
  },
  {
   "cell_type": "code",
   "execution_count": 58,
   "metadata": {},
   "outputs": [
    {
     "data": {
      "text/plain": [
       "['Ab Inbev\\nbased on 28 salaries\\nData Scientist\\n . \\n3-4 yrs exp',\n",
       " 'ZS\\nbased on 15 salaries\\nData Scientist\\n . \\n2 yrs exp',\n",
       " 'Optum\\nbased on 25 salaries\\nData Scientist\\n . \\n3-4 yrs exp',\n",
       " 'Fractal Analytics\\nbased on 77 salaries\\nData Scientist\\n . \\n2-4 yrs exp',\n",
       " 'Tiger Analytics\\nbased on 33 salaries\\nData Scientist\\n . \\n3-4 yrs exp',\n",
       " 'UnitedHealth\\nbased on 52 salaries\\nData Scientist\\n . \\n2-4 yrs exp',\n",
       " 'Verizon\\nbased on 14 salaries\\nData Scientist\\n . \\n4 yrs exp',\n",
       " 'Ganit Business Solutions\\nbased on 13 salaries\\nData Scientist\\n . \\n4 yrs exp',\n",
       " 'Ericsson\\nbased on 43 salaries\\nData Scientist\\n . \\n3-4 yrs exp',\n",
       " 'Deloitte\\nbased on 57 salaries\\nData Scientist\\n . \\n2-4 yrs exp']"
      ]
     },
     "execution_count": 58,
     "metadata": {},
     "output_type": "execute_result"
    }
   ],
   "source": [
    "company_names = []\n",
    "\n",
    "for i in company_tags:\n",
    "    company_names.append(i.text)\n",
    "company_names[0:10]"
   ]
  },
  {
   "cell_type": "code",
   "execution_count": null,
   "metadata": {},
   "outputs": [],
   "source": [
    "# In the above code company name,total salary record,experience required have been scrapped.\n",
    " # But i dont know how to separate them."
   ]
  },
  {
   "cell_type": "markdown",
   "metadata": {},
   "source": [
    "# Extracting salaries"
   ]
  },
  {
   "cell_type": "code",
   "execution_count": 62,
   "metadata": {},
   "outputs": [
    {
     "data": {
      "text/plain": [
       "[<selenium.webdriver.remote.webelement.WebElement (session=\"55b802d99752cf7b685a9452802daf2a\", element=\"13f2553a-718d-43ec-b603-9c0fdc34e037\")>,\n",
       " <selenium.webdriver.remote.webelement.WebElement (session=\"55b802d99752cf7b685a9452802daf2a\", element=\"2afb8b09-5898-4ebf-a49d-dc5f6dee223b\")>,\n",
       " <selenium.webdriver.remote.webelement.WebElement (session=\"55b802d99752cf7b685a9452802daf2a\", element=\"da916512-8d1e-47af-aeca-2e7fc80f9b0a\")>,\n",
       " <selenium.webdriver.remote.webelement.WebElement (session=\"55b802d99752cf7b685a9452802daf2a\", element=\"9ca6bdae-926a-484d-9cc1-4aa67ebb3106\")>,\n",
       " <selenium.webdriver.remote.webelement.WebElement (session=\"55b802d99752cf7b685a9452802daf2a\", element=\"e875979e-72fe-4cde-beb0-915d44e41e54\")>,\n",
       " <selenium.webdriver.remote.webelement.WebElement (session=\"55b802d99752cf7b685a9452802daf2a\", element=\"fba3d79d-50fa-441a-b8e2-118a423cd657\")>,\n",
       " <selenium.webdriver.remote.webelement.WebElement (session=\"55b802d99752cf7b685a9452802daf2a\", element=\"25e0e6e0-9a8a-4a31-aac9-3dd17ca735b3\")>,\n",
       " <selenium.webdriver.remote.webelement.WebElement (session=\"55b802d99752cf7b685a9452802daf2a\", element=\"81d04879-523d-4ca9-9073-d9b0c9ca8ed4\")>,\n",
       " <selenium.webdriver.remote.webelement.WebElement (session=\"55b802d99752cf7b685a9452802daf2a\", element=\"9d0db58d-da61-464e-ae12-32e02b4c397a\")>,\n",
       " <selenium.webdriver.remote.webelement.WebElement (session=\"55b802d99752cf7b685a9452802daf2a\", element=\"7ed93c6a-11f8-4dd8-8cfd-f433d4047223\")>]"
      ]
     },
     "execution_count": 62,
     "metadata": {},
     "output_type": "execute_result"
    }
   ],
   "source": [
    "avg_salary_tags = driver.find_elements_by_xpath('//p[@class=\"averageCtc\"]')\n",
    "avg_salary_tags[0:10]"
   ]
  },
  {
   "cell_type": "code",
   "execution_count": 64,
   "metadata": {},
   "outputs": [
    {
     "data": {
      "text/plain": [
       "['₹ 20.3L',\n",
       " '₹ 15.3L',\n",
       " '₹ 15.1L',\n",
       " '₹ 15.1L',\n",
       " '₹ 14.4L',\n",
       " '₹ 13.9L',\n",
       " '₹ 12.7L',\n",
       " '₹ 12.4L',\n",
       " '₹ 11.9L',\n",
       " '₹ 11.7L']"
      ]
     },
     "execution_count": 64,
     "metadata": {},
     "output_type": "execute_result"
    }
   ],
   "source": [
    "avg_salary = []\n",
    "\n",
    "for i in avg_salary_tags:\n",
    "    avg_salary.append(i.text)\n",
    "avg_salary[0:10] "
   ]
  },
  {
   "cell_type": "code",
   "execution_count": 65,
   "metadata": {},
   "outputs": [
    {
     "data": {
      "text/plain": [
       "[<selenium.webdriver.remote.webelement.WebElement (session=\"55b802d99752cf7b685a9452802daf2a\", element=\"d5b0ea3e-b2e4-4b0d-9e52-11a6aa5cabcd\")>,\n",
       " <selenium.webdriver.remote.webelement.WebElement (session=\"55b802d99752cf7b685a9452802daf2a\", element=\"5586aead-ba82-4acc-a92b-13bf210c5ace\")>,\n",
       " <selenium.webdriver.remote.webelement.WebElement (session=\"55b802d99752cf7b685a9452802daf2a\", element=\"20e76635-770c-474c-9ef1-c3f7fb2a0c92\")>,\n",
       " <selenium.webdriver.remote.webelement.WebElement (session=\"55b802d99752cf7b685a9452802daf2a\", element=\"90315eef-0cbe-4a2b-bdda-8065afb95842\")>,\n",
       " <selenium.webdriver.remote.webelement.WebElement (session=\"55b802d99752cf7b685a9452802daf2a\", element=\"d0dc0fc2-6b46-4fa2-ac49-d5a261f6d2b5\")>,\n",
       " <selenium.webdriver.remote.webelement.WebElement (session=\"55b802d99752cf7b685a9452802daf2a\", element=\"639a0691-34a5-43f9-a908-f5eecf54ac3e\")>,\n",
       " <selenium.webdriver.remote.webelement.WebElement (session=\"55b802d99752cf7b685a9452802daf2a\", element=\"62c0361b-b888-4a7a-8dcc-3f3eb674ab28\")>,\n",
       " <selenium.webdriver.remote.webelement.WebElement (session=\"55b802d99752cf7b685a9452802daf2a\", element=\"38c20c83-fa45-432e-af17-cf5dd68c9d8f\")>,\n",
       " <selenium.webdriver.remote.webelement.WebElement (session=\"55b802d99752cf7b685a9452802daf2a\", element=\"fb2baf98-25e2-4d6c-9514-7d78d2df67f8\")>,\n",
       " <selenium.webdriver.remote.webelement.WebElement (session=\"55b802d99752cf7b685a9452802daf2a\", element=\"53f339f8-98d6-4663-85e5-c7af4505a56f\")>]"
      ]
     },
     "execution_count": 65,
     "metadata": {},
     "output_type": "execute_result"
    }
   ],
   "source": [
    "min_salary_tags = driver.find_elements_by_xpath('//div[@class=\"value body-medium\"]')\n",
    "min_salary_tags[0:10]"
   ]
  },
  {
   "cell_type": "code",
   "execution_count": 66,
   "metadata": {},
   "outputs": [
    {
     "data": {
      "text/plain": [
       "['₹ 15.0L',\n",
       " '₹ 25.5L',\n",
       " '₹ 9.5L',\n",
       " '₹ 20.0L',\n",
       " '₹ 11.0L',\n",
       " '₹ 21.3L',\n",
       " '₹ 9.5L',\n",
       " '₹ 22.0L',\n",
       " '₹ 8.3L',\n",
       " '₹ 20.0L']"
      ]
     },
     "execution_count": 66,
     "metadata": {},
     "output_type": "execute_result"
    }
   ],
   "source": [
    "min_salary = []\n",
    "\n",
    "for i in min_salary_tags:\n",
    "    min_salary.append(i.text)\n",
    "min_salary[0:10] "
   ]
  },
  {
   "cell_type": "code",
   "execution_count": 67,
   "metadata": {},
   "outputs": [
    {
     "data": {
      "text/plain": [
       "[<selenium.webdriver.remote.webelement.WebElement (session=\"55b802d99752cf7b685a9452802daf2a\", element=\"d5b0ea3e-b2e4-4b0d-9e52-11a6aa5cabcd\")>,\n",
       " <selenium.webdriver.remote.webelement.WebElement (session=\"55b802d99752cf7b685a9452802daf2a\", element=\"5586aead-ba82-4acc-a92b-13bf210c5ace\")>,\n",
       " <selenium.webdriver.remote.webelement.WebElement (session=\"55b802d99752cf7b685a9452802daf2a\", element=\"20e76635-770c-474c-9ef1-c3f7fb2a0c92\")>,\n",
       " <selenium.webdriver.remote.webelement.WebElement (session=\"55b802d99752cf7b685a9452802daf2a\", element=\"90315eef-0cbe-4a2b-bdda-8065afb95842\")>,\n",
       " <selenium.webdriver.remote.webelement.WebElement (session=\"55b802d99752cf7b685a9452802daf2a\", element=\"d0dc0fc2-6b46-4fa2-ac49-d5a261f6d2b5\")>,\n",
       " <selenium.webdriver.remote.webelement.WebElement (session=\"55b802d99752cf7b685a9452802daf2a\", element=\"639a0691-34a5-43f9-a908-f5eecf54ac3e\")>,\n",
       " <selenium.webdriver.remote.webelement.WebElement (session=\"55b802d99752cf7b685a9452802daf2a\", element=\"62c0361b-b888-4a7a-8dcc-3f3eb674ab28\")>,\n",
       " <selenium.webdriver.remote.webelement.WebElement (session=\"55b802d99752cf7b685a9452802daf2a\", element=\"38c20c83-fa45-432e-af17-cf5dd68c9d8f\")>,\n",
       " <selenium.webdriver.remote.webelement.WebElement (session=\"55b802d99752cf7b685a9452802daf2a\", element=\"fb2baf98-25e2-4d6c-9514-7d78d2df67f8\")>,\n",
       " <selenium.webdriver.remote.webelement.WebElement (session=\"55b802d99752cf7b685a9452802daf2a\", element=\"53f339f8-98d6-4663-85e5-c7af4505a56f\")>]"
      ]
     },
     "execution_count": 67,
     "metadata": {},
     "output_type": "execute_result"
    }
   ],
   "source": [
    "max_salary_tags = driver.find_elements_by_xpath('//div[@class=\"value body-medium\"]')\n",
    "max_salary_tags[0:10]"
   ]
  },
  {
   "cell_type": "code",
   "execution_count": 68,
   "metadata": {},
   "outputs": [
    {
     "data": {
      "text/plain": [
       "['₹ 15.0L',\n",
       " '₹ 25.5L',\n",
       " '₹ 9.5L',\n",
       " '₹ 20.0L',\n",
       " '₹ 11.0L',\n",
       " '₹ 21.3L',\n",
       " '₹ 9.5L',\n",
       " '₹ 22.0L',\n",
       " '₹ 8.3L',\n",
       " '₹ 20.0L']"
      ]
     },
     "execution_count": 68,
     "metadata": {},
     "output_type": "execute_result"
    }
   ],
   "source": [
    "max_salary = []\n",
    "\n",
    "for i in max_salary_tags:\n",
    "    max_salary.append(i.text)\n",
    "max_salary[0:10] "
   ]
  },
  {
   "cell_type": "code",
   "execution_count": null,
   "metadata": {},
   "outputs": [],
   "source": []
  }
 ],
 "metadata": {
  "kernelspec": {
   "display_name": "Python 3 (ipykernel)",
   "language": "python",
   "name": "python3"
  },
  "language_info": {
   "codemirror_mode": {
    "name": "ipython",
    "version": 3
   },
   "file_extension": ".py",
   "mimetype": "text/x-python",
   "name": "python",
   "nbconvert_exporter": "python",
   "pygments_lexer": "ipython3",
   "version": "3.9.7"
  }
 },
 "nbformat": 4,
 "nbformat_minor": 2
}
